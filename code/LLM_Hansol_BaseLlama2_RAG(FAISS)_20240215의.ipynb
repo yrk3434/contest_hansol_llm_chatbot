{
  "nbformat": 4,
  "nbformat_minor": 0,
  "metadata": {
    "colab": {
      "provenance": [],
      "toc_visible": true,
      "machine_shape": "hm",
      "gpuType": "A100"
    },
    "kernelspec": {
      "name": "python3",
      "display_name": "Python 3"
    },
    "language_info": {
      "name": "python"
    },
    "accelerator": "GPU",
    "widgets": {
      "application/vnd.jupyter.widget-state+json": {
        "4cb2e685df734853ba76beb8a5ac0b7f": {
          "model_module": "@jupyter-widgets/controls",
          "model_name": "HBoxModel",
          "model_module_version": "1.5.0",
          "state": {
            "_dom_classes": [],
            "_model_module": "@jupyter-widgets/controls",
            "_model_module_version": "1.5.0",
            "_model_name": "HBoxModel",
            "_view_count": null,
            "_view_module": "@jupyter-widgets/controls",
            "_view_module_version": "1.5.0",
            "_view_name": "HBoxView",
            "box_style": "",
            "children": [
              "IPY_MODEL_274d18b7759842679173a628bac85352",
              "IPY_MODEL_a94f61b27ffc44ab8ee56dbb66aa9b4b",
              "IPY_MODEL_3112a969faed41e2adce427d34786465"
            ],
            "layout": "IPY_MODEL_9b34a79cef204eae84965792100c56be"
          }
        },
        "274d18b7759842679173a628bac85352": {
          "model_module": "@jupyter-widgets/controls",
          "model_name": "HTMLModel",
          "model_module_version": "1.5.0",
          "state": {
            "_dom_classes": [],
            "_model_module": "@jupyter-widgets/controls",
            "_model_module_version": "1.5.0",
            "_model_name": "HTMLModel",
            "_view_count": null,
            "_view_module": "@jupyter-widgets/controls",
            "_view_module_version": "1.5.0",
            "_view_name": "HTMLView",
            "description": "",
            "description_tooltip": null,
            "layout": "IPY_MODEL_d22eb65c3f1e4762a931649949175783",
            "placeholder": "​",
            "style": "IPY_MODEL_d8ddaf4fdff640acb059dc139bae109f",
            "value": "Loading checkpoint shards: 100%"
          }
        },
        "a94f61b27ffc44ab8ee56dbb66aa9b4b": {
          "model_module": "@jupyter-widgets/controls",
          "model_name": "FloatProgressModel",
          "model_module_version": "1.5.0",
          "state": {
            "_dom_classes": [],
            "_model_module": "@jupyter-widgets/controls",
            "_model_module_version": "1.5.0",
            "_model_name": "FloatProgressModel",
            "_view_count": null,
            "_view_module": "@jupyter-widgets/controls",
            "_view_module_version": "1.5.0",
            "_view_name": "ProgressView",
            "bar_style": "success",
            "description": "",
            "description_tooltip": null,
            "layout": "IPY_MODEL_2524d2fe11134949861f9145a14994a9",
            "max": 15,
            "min": 0,
            "orientation": "horizontal",
            "style": "IPY_MODEL_eeea1e9480314693a9d6cde0e528b38e",
            "value": 15
          }
        },
        "3112a969faed41e2adce427d34786465": {
          "model_module": "@jupyter-widgets/controls",
          "model_name": "HTMLModel",
          "model_module_version": "1.5.0",
          "state": {
            "_dom_classes": [],
            "_model_module": "@jupyter-widgets/controls",
            "_model_module_version": "1.5.0",
            "_model_name": "HTMLModel",
            "_view_count": null,
            "_view_module": "@jupyter-widgets/controls",
            "_view_module_version": "1.5.0",
            "_view_name": "HTMLView",
            "description": "",
            "description_tooltip": null,
            "layout": "IPY_MODEL_e1355dc8d8764f3e9c7db7b26dbc5297",
            "placeholder": "​",
            "style": "IPY_MODEL_b8906b98a3c44e03b1ae5f444f47f7d3",
            "value": " 15/15 [00:14&lt;00:00,  1.22it/s]"
          }
        },
        "9b34a79cef204eae84965792100c56be": {
          "model_module": "@jupyter-widgets/base",
          "model_name": "LayoutModel",
          "model_module_version": "1.2.0",
          "state": {
            "_model_module": "@jupyter-widgets/base",
            "_model_module_version": "1.2.0",
            "_model_name": "LayoutModel",
            "_view_count": null,
            "_view_module": "@jupyter-widgets/base",
            "_view_module_version": "1.2.0",
            "_view_name": "LayoutView",
            "align_content": null,
            "align_items": null,
            "align_self": null,
            "border": null,
            "bottom": null,
            "display": null,
            "flex": null,
            "flex_flow": null,
            "grid_area": null,
            "grid_auto_columns": null,
            "grid_auto_flow": null,
            "grid_auto_rows": null,
            "grid_column": null,
            "grid_gap": null,
            "grid_row": null,
            "grid_template_areas": null,
            "grid_template_columns": null,
            "grid_template_rows": null,
            "height": null,
            "justify_content": null,
            "justify_items": null,
            "left": null,
            "margin": null,
            "max_height": null,
            "max_width": null,
            "min_height": null,
            "min_width": null,
            "object_fit": null,
            "object_position": null,
            "order": null,
            "overflow": null,
            "overflow_x": null,
            "overflow_y": null,
            "padding": null,
            "right": null,
            "top": null,
            "visibility": null,
            "width": null
          }
        },
        "d22eb65c3f1e4762a931649949175783": {
          "model_module": "@jupyter-widgets/base",
          "model_name": "LayoutModel",
          "model_module_version": "1.2.0",
          "state": {
            "_model_module": "@jupyter-widgets/base",
            "_model_module_version": "1.2.0",
            "_model_name": "LayoutModel",
            "_view_count": null,
            "_view_module": "@jupyter-widgets/base",
            "_view_module_version": "1.2.0",
            "_view_name": "LayoutView",
            "align_content": null,
            "align_items": null,
            "align_self": null,
            "border": null,
            "bottom": null,
            "display": null,
            "flex": null,
            "flex_flow": null,
            "grid_area": null,
            "grid_auto_columns": null,
            "grid_auto_flow": null,
            "grid_auto_rows": null,
            "grid_column": null,
            "grid_gap": null,
            "grid_row": null,
            "grid_template_areas": null,
            "grid_template_columns": null,
            "grid_template_rows": null,
            "height": null,
            "justify_content": null,
            "justify_items": null,
            "left": null,
            "margin": null,
            "max_height": null,
            "max_width": null,
            "min_height": null,
            "min_width": null,
            "object_fit": null,
            "object_position": null,
            "order": null,
            "overflow": null,
            "overflow_x": null,
            "overflow_y": null,
            "padding": null,
            "right": null,
            "top": null,
            "visibility": null,
            "width": null
          }
        },
        "d8ddaf4fdff640acb059dc139bae109f": {
          "model_module": "@jupyter-widgets/controls",
          "model_name": "DescriptionStyleModel",
          "model_module_version": "1.5.0",
          "state": {
            "_model_module": "@jupyter-widgets/controls",
            "_model_module_version": "1.5.0",
            "_model_name": "DescriptionStyleModel",
            "_view_count": null,
            "_view_module": "@jupyter-widgets/base",
            "_view_module_version": "1.2.0",
            "_view_name": "StyleView",
            "description_width": ""
          }
        },
        "2524d2fe11134949861f9145a14994a9": {
          "model_module": "@jupyter-widgets/base",
          "model_name": "LayoutModel",
          "model_module_version": "1.2.0",
          "state": {
            "_model_module": "@jupyter-widgets/base",
            "_model_module_version": "1.2.0",
            "_model_name": "LayoutModel",
            "_view_count": null,
            "_view_module": "@jupyter-widgets/base",
            "_view_module_version": "1.2.0",
            "_view_name": "LayoutView",
            "align_content": null,
            "align_items": null,
            "align_self": null,
            "border": null,
            "bottom": null,
            "display": null,
            "flex": null,
            "flex_flow": null,
            "grid_area": null,
            "grid_auto_columns": null,
            "grid_auto_flow": null,
            "grid_auto_rows": null,
            "grid_column": null,
            "grid_gap": null,
            "grid_row": null,
            "grid_template_areas": null,
            "grid_template_columns": null,
            "grid_template_rows": null,
            "height": null,
            "justify_content": null,
            "justify_items": null,
            "left": null,
            "margin": null,
            "max_height": null,
            "max_width": null,
            "min_height": null,
            "min_width": null,
            "object_fit": null,
            "object_position": null,
            "order": null,
            "overflow": null,
            "overflow_x": null,
            "overflow_y": null,
            "padding": null,
            "right": null,
            "top": null,
            "visibility": null,
            "width": null
          }
        },
        "eeea1e9480314693a9d6cde0e528b38e": {
          "model_module": "@jupyter-widgets/controls",
          "model_name": "ProgressStyleModel",
          "model_module_version": "1.5.0",
          "state": {
            "_model_module": "@jupyter-widgets/controls",
            "_model_module_version": "1.5.0",
            "_model_name": "ProgressStyleModel",
            "_view_count": null,
            "_view_module": "@jupyter-widgets/base",
            "_view_module_version": "1.2.0",
            "_view_name": "StyleView",
            "bar_color": null,
            "description_width": ""
          }
        },
        "e1355dc8d8764f3e9c7db7b26dbc5297": {
          "model_module": "@jupyter-widgets/base",
          "model_name": "LayoutModel",
          "model_module_version": "1.2.0",
          "state": {
            "_model_module": "@jupyter-widgets/base",
            "_model_module_version": "1.2.0",
            "_model_name": "LayoutModel",
            "_view_count": null,
            "_view_module": "@jupyter-widgets/base",
            "_view_module_version": "1.2.0",
            "_view_name": "LayoutView",
            "align_content": null,
            "align_items": null,
            "align_self": null,
            "border": null,
            "bottom": null,
            "display": null,
            "flex": null,
            "flex_flow": null,
            "grid_area": null,
            "grid_auto_columns": null,
            "grid_auto_flow": null,
            "grid_auto_rows": null,
            "grid_column": null,
            "grid_gap": null,
            "grid_row": null,
            "grid_template_areas": null,
            "grid_template_columns": null,
            "grid_template_rows": null,
            "height": null,
            "justify_content": null,
            "justify_items": null,
            "left": null,
            "margin": null,
            "max_height": null,
            "max_width": null,
            "min_height": null,
            "min_width": null,
            "object_fit": null,
            "object_position": null,
            "order": null,
            "overflow": null,
            "overflow_x": null,
            "overflow_y": null,
            "padding": null,
            "right": null,
            "top": null,
            "visibility": null,
            "width": null
          }
        },
        "b8906b98a3c44e03b1ae5f444f47f7d3": {
          "model_module": "@jupyter-widgets/controls",
          "model_name": "DescriptionStyleModel",
          "model_module_version": "1.5.0",
          "state": {
            "_model_module": "@jupyter-widgets/controls",
            "_model_module_version": "1.5.0",
            "_model_name": "DescriptionStyleModel",
            "_view_count": null,
            "_view_module": "@jupyter-widgets/base",
            "_view_module_version": "1.2.0",
            "_view_name": "StyleView",
            "description_width": ""
          }
        }
      }
    }
  },
  "cells": [
    {
      "cell_type": "markdown",
      "source": [
        "# Vanila Llama2 + RAG(FAISS) baseline performance\n",
        "- 파인튜닝되지 않은 llama2 기준 정보 서치 수준 검증(baseline 성능)\n",
        "-"
      ],
      "metadata": {
        "id": "gmHLA8fqB6gq"
      }
    },
    {
      "cell_type": "code",
      "source": [
        "import pandas as pd\n",
        "import os\n",
        "\n",
        "root_path = os.getcwd()+\"/drive/MyDrive/contest/dacon_hansol_llm\"\n",
        "\n",
        "train_data = pd.read_csv(os.path.join(root_path, \"train.csv\"))\n",
        "test_data = pd.read_csv(os.path.join(root_path, \"test.csv\"))\n",
        "train_data.sample(3)"
      ],
      "metadata": {
        "colab": {
          "base_uri": "https://localhost:8080/",
          "height": 404
        },
        "id": "BLduZirdCAbr",
        "outputId": "520abe62-f45f-424c-ee26-78b37f92bbcd"
      },
      "execution_count": null,
      "outputs": [
        {
          "output_type": "execute_result",
          "data": {
            "text/plain": [
              "            id                        질문_1  \\\n",
              "315  TRAIN_315             시멘트사이딩의 단점이 뭐야?   \n",
              "489  TRAIN_489  옥상 방수용 탄성 에멀전 페인트의 장점이 뭐야?   \n",
              "91   TRAIN_091              원목사이딩의 단점이 뭐야?   \n",
              "\n",
              "                                   질문_2 category  \\\n",
              "315                시멘트사이딩의 어떤 단점이 있을까요?      마감재   \n",
              "489  옥상 방수용 탄성 에멀전 페인트를 사용하는 이유는 무엇인가요?       시공   \n",
              "91            원목사이딩을 사용하는데 어떤 단점이 있을까요?      마감재   \n",
              "\n",
              "                                                  답변_1  \\\n",
              "315                시멘트사이딩은 오염이 잘 생기고 저렴해보인다는 점은 단점입니다.   \n",
              "489  옥상 방수용 탄성 에멀전 페인트는 건조 후 이음매 없이 연속적으로 형성된 도막이 뛰...   \n",
              "91   원목사이딩의 단점은 가격대가 높고 관리가 어려우며 습기에 약해 뒤틀림, 부서짐, 수...   \n",
              "\n",
              "                                                  답변_2  \\\n",
              "315  시멘트사이딩의 단점은 수명이 다른 재료들보다 상대적으로 짧을 수 있으며, 조염에 취...   \n",
              "489  옥상 방수용 탄성 에멀전 페인트의 장점은 건조 후 이음매 없이 연속적으로 형성된 도...   \n",
              "91   원목사이딩의 단점은 주로 높은 비용, 유지보수의 어려움, 습기에 대한 취약성으로 인...   \n",
              "\n",
              "                                                  답변_3  \\\n",
              "315  시멘트사이딩의 단점 중 하나는 오염이 쉽게 생긴다는 점입니다. 또한 비교적 저렴하게...   \n",
              "489  옥상 방수용 탄성 에멀전 페인트의 장점은 건조 후 뛰어난 내수성을 갖고 이음매 없이...   \n",
              "91   원목사이딩의 단점은 가격대가 높을 뿐 아니라 관리가 어렵고 습기에 민감하여 뒤틀림,...   \n",
              "\n",
              "                                                  답변_4  \\\n",
              "315  시멘트사이딩의 단점 중 하나는 기존에 말씀드린 대로 오염이 쉽게 발생한다는 점입니다...   \n",
              "489  옥상 방수용 탄성 에멀전 페인트의 장점은 건조 후 이음매 없이 연속적으로 형성된 도...   \n",
              "91   원목사이딩의 단점은 주로 가격대가 높고 관리가 어렵다는 점입니다. 또한 습기에 약해...   \n",
              "\n",
              "                                                  답변_5  \n",
              "315  시멘트사이딩의 단점으로는 오염에 쉽게 노출되어 변색되는 경향이 있고, 초기 비용은 ...  \n",
              "489  옥상 방수용 탄성 에멀전 페인트의 장점은 건조 후 이음매 없이 연속적으로 형성된 도...  \n",
              "91   원목사이딩의 장점은 있으나, 단점으로는 가격대가 높고 관리가 어려우며 습기에 약해 ...  "
            ],
            "text/html": [
              "\n",
              "  <div id=\"df-7a4d4f96-2542-4e77-be29-37e595ed9a56\" class=\"colab-df-container\">\n",
              "    <div>\n",
              "<style scoped>\n",
              "    .dataframe tbody tr th:only-of-type {\n",
              "        vertical-align: middle;\n",
              "    }\n",
              "\n",
              "    .dataframe tbody tr th {\n",
              "        vertical-align: top;\n",
              "    }\n",
              "\n",
              "    .dataframe thead th {\n",
              "        text-align: right;\n",
              "    }\n",
              "</style>\n",
              "<table border=\"1\" class=\"dataframe\">\n",
              "  <thead>\n",
              "    <tr style=\"text-align: right;\">\n",
              "      <th></th>\n",
              "      <th>id</th>\n",
              "      <th>질문_1</th>\n",
              "      <th>질문_2</th>\n",
              "      <th>category</th>\n",
              "      <th>답변_1</th>\n",
              "      <th>답변_2</th>\n",
              "      <th>답변_3</th>\n",
              "      <th>답변_4</th>\n",
              "      <th>답변_5</th>\n",
              "    </tr>\n",
              "  </thead>\n",
              "  <tbody>\n",
              "    <tr>\n",
              "      <th>315</th>\n",
              "      <td>TRAIN_315</td>\n",
              "      <td>시멘트사이딩의 단점이 뭐야?</td>\n",
              "      <td>시멘트사이딩의 어떤 단점이 있을까요?</td>\n",
              "      <td>마감재</td>\n",
              "      <td>시멘트사이딩은 오염이 잘 생기고 저렴해보인다는 점은 단점입니다.</td>\n",
              "      <td>시멘트사이딩의 단점은 수명이 다른 재료들보다 상대적으로 짧을 수 있으며, 조염에 취...</td>\n",
              "      <td>시멘트사이딩의 단점 중 하나는 오염이 쉽게 생긴다는 점입니다. 또한 비교적 저렴하게...</td>\n",
              "      <td>시멘트사이딩의 단점 중 하나는 기존에 말씀드린 대로 오염이 쉽게 발생한다는 점입니다...</td>\n",
              "      <td>시멘트사이딩의 단점으로는 오염에 쉽게 노출되어 변색되는 경향이 있고, 초기 비용은 ...</td>\n",
              "    </tr>\n",
              "    <tr>\n",
              "      <th>489</th>\n",
              "      <td>TRAIN_489</td>\n",
              "      <td>옥상 방수용 탄성 에멀전 페인트의 장점이 뭐야?</td>\n",
              "      <td>옥상 방수용 탄성 에멀전 페인트를 사용하는 이유는 무엇인가요?</td>\n",
              "      <td>시공</td>\n",
              "      <td>옥상 방수용 탄성 에멀전 페인트는 건조 후 이음매 없이 연속적으로 형성된 도막이 뛰...</td>\n",
              "      <td>옥상 방수용 탄성 에멀전 페인트의 장점은 건조 후 이음매 없이 연속적으로 형성된 도...</td>\n",
              "      <td>옥상 방수용 탄성 에멀전 페인트의 장점은 건조 후 뛰어난 내수성을 갖고 이음매 없이...</td>\n",
              "      <td>옥상 방수용 탄성 에멀전 페인트의 장점은 건조 후 이음매 없이 연속적으로 형성된 도...</td>\n",
              "      <td>옥상 방수용 탄성 에멀전 페인트의 장점은 건조 후 이음매 없이 연속적으로 형성된 도...</td>\n",
              "    </tr>\n",
              "    <tr>\n",
              "      <th>91</th>\n",
              "      <td>TRAIN_091</td>\n",
              "      <td>원목사이딩의 단점이 뭐야?</td>\n",
              "      <td>원목사이딩을 사용하는데 어떤 단점이 있을까요?</td>\n",
              "      <td>마감재</td>\n",
              "      <td>원목사이딩의 단점은 가격대가 높고 관리가 어려우며 습기에 약해 뒤틀림, 부서짐, 수...</td>\n",
              "      <td>원목사이딩의 단점은 주로 높은 비용, 유지보수의 어려움, 습기에 대한 취약성으로 인...</td>\n",
              "      <td>원목사이딩의 단점은 가격대가 높을 뿐 아니라 관리가 어렵고 습기에 민감하여 뒤틀림,...</td>\n",
              "      <td>원목사이딩의 단점은 주로 가격대가 높고 관리가 어렵다는 점입니다. 또한 습기에 약해...</td>\n",
              "      <td>원목사이딩의 장점은 있으나, 단점으로는 가격대가 높고 관리가 어려우며 습기에 약해 ...</td>\n",
              "    </tr>\n",
              "  </tbody>\n",
              "</table>\n",
              "</div>\n",
              "    <div class=\"colab-df-buttons\">\n",
              "\n",
              "  <div class=\"colab-df-container\">\n",
              "    <button class=\"colab-df-convert\" onclick=\"convertToInteractive('df-7a4d4f96-2542-4e77-be29-37e595ed9a56')\"\n",
              "            title=\"Convert this dataframe to an interactive table.\"\n",
              "            style=\"display:none;\">\n",
              "\n",
              "  <svg xmlns=\"http://www.w3.org/2000/svg\" height=\"24px\" viewBox=\"0 -960 960 960\">\n",
              "    <path d=\"M120-120v-720h720v720H120Zm60-500h600v-160H180v160Zm220 220h160v-160H400v160Zm0 220h160v-160H400v160ZM180-400h160v-160H180v160Zm440 0h160v-160H620v160ZM180-180h160v-160H180v160Zm440 0h160v-160H620v160Z\"/>\n",
              "  </svg>\n",
              "    </button>\n",
              "\n",
              "  <style>\n",
              "    .colab-df-container {\n",
              "      display:flex;\n",
              "      gap: 12px;\n",
              "    }\n",
              "\n",
              "    .colab-df-convert {\n",
              "      background-color: #E8F0FE;\n",
              "      border: none;\n",
              "      border-radius: 50%;\n",
              "      cursor: pointer;\n",
              "      display: none;\n",
              "      fill: #1967D2;\n",
              "      height: 32px;\n",
              "      padding: 0 0 0 0;\n",
              "      width: 32px;\n",
              "    }\n",
              "\n",
              "    .colab-df-convert:hover {\n",
              "      background-color: #E2EBFA;\n",
              "      box-shadow: 0px 1px 2px rgba(60, 64, 67, 0.3), 0px 1px 3px 1px rgba(60, 64, 67, 0.15);\n",
              "      fill: #174EA6;\n",
              "    }\n",
              "\n",
              "    .colab-df-buttons div {\n",
              "      margin-bottom: 4px;\n",
              "    }\n",
              "\n",
              "    [theme=dark] .colab-df-convert {\n",
              "      background-color: #3B4455;\n",
              "      fill: #D2E3FC;\n",
              "    }\n",
              "\n",
              "    [theme=dark] .colab-df-convert:hover {\n",
              "      background-color: #434B5C;\n",
              "      box-shadow: 0px 1px 3px 1px rgba(0, 0, 0, 0.15);\n",
              "      filter: drop-shadow(0px 1px 2px rgba(0, 0, 0, 0.3));\n",
              "      fill: #FFFFFF;\n",
              "    }\n",
              "  </style>\n",
              "\n",
              "    <script>\n",
              "      const buttonEl =\n",
              "        document.querySelector('#df-7a4d4f96-2542-4e77-be29-37e595ed9a56 button.colab-df-convert');\n",
              "      buttonEl.style.display =\n",
              "        google.colab.kernel.accessAllowed ? 'block' : 'none';\n",
              "\n",
              "      async function convertToInteractive(key) {\n",
              "        const element = document.querySelector('#df-7a4d4f96-2542-4e77-be29-37e595ed9a56');\n",
              "        const dataTable =\n",
              "          await google.colab.kernel.invokeFunction('convertToInteractive',\n",
              "                                                    [key], {});\n",
              "        if (!dataTable) return;\n",
              "\n",
              "        const docLinkHtml = 'Like what you see? Visit the ' +\n",
              "          '<a target=\"_blank\" href=https://colab.research.google.com/notebooks/data_table.ipynb>data table notebook</a>'\n",
              "          + ' to learn more about interactive tables.';\n",
              "        element.innerHTML = '';\n",
              "        dataTable['output_type'] = 'display_data';\n",
              "        await google.colab.output.renderOutput(dataTable, element);\n",
              "        const docLink = document.createElement('div');\n",
              "        docLink.innerHTML = docLinkHtml;\n",
              "        element.appendChild(docLink);\n",
              "      }\n",
              "    </script>\n",
              "  </div>\n",
              "\n",
              "\n",
              "<div id=\"df-5e5b0bd7-580d-43ba-8426-37707406c658\">\n",
              "  <button class=\"colab-df-quickchart\" onclick=\"quickchart('df-5e5b0bd7-580d-43ba-8426-37707406c658')\"\n",
              "            title=\"Suggest charts\"\n",
              "            style=\"display:none;\">\n",
              "\n",
              "<svg xmlns=\"http://www.w3.org/2000/svg\" height=\"24px\"viewBox=\"0 0 24 24\"\n",
              "     width=\"24px\">\n",
              "    <g>\n",
              "        <path d=\"M19 3H5c-1.1 0-2 .9-2 2v14c0 1.1.9 2 2 2h14c1.1 0 2-.9 2-2V5c0-1.1-.9-2-2-2zM9 17H7v-7h2v7zm4 0h-2V7h2v10zm4 0h-2v-4h2v4z\"/>\n",
              "    </g>\n",
              "</svg>\n",
              "  </button>\n",
              "\n",
              "<style>\n",
              "  .colab-df-quickchart {\n",
              "      --bg-color: #E8F0FE;\n",
              "      --fill-color: #1967D2;\n",
              "      --hover-bg-color: #E2EBFA;\n",
              "      --hover-fill-color: #174EA6;\n",
              "      --disabled-fill-color: #AAA;\n",
              "      --disabled-bg-color: #DDD;\n",
              "  }\n",
              "\n",
              "  [theme=dark] .colab-df-quickchart {\n",
              "      --bg-color: #3B4455;\n",
              "      --fill-color: #D2E3FC;\n",
              "      --hover-bg-color: #434B5C;\n",
              "      --hover-fill-color: #FFFFFF;\n",
              "      --disabled-bg-color: #3B4455;\n",
              "      --disabled-fill-color: #666;\n",
              "  }\n",
              "\n",
              "  .colab-df-quickchart {\n",
              "    background-color: var(--bg-color);\n",
              "    border: none;\n",
              "    border-radius: 50%;\n",
              "    cursor: pointer;\n",
              "    display: none;\n",
              "    fill: var(--fill-color);\n",
              "    height: 32px;\n",
              "    padding: 0;\n",
              "    width: 32px;\n",
              "  }\n",
              "\n",
              "  .colab-df-quickchart:hover {\n",
              "    background-color: var(--hover-bg-color);\n",
              "    box-shadow: 0 1px 2px rgba(60, 64, 67, 0.3), 0 1px 3px 1px rgba(60, 64, 67, 0.15);\n",
              "    fill: var(--button-hover-fill-color);\n",
              "  }\n",
              "\n",
              "  .colab-df-quickchart-complete:disabled,\n",
              "  .colab-df-quickchart-complete:disabled:hover {\n",
              "    background-color: var(--disabled-bg-color);\n",
              "    fill: var(--disabled-fill-color);\n",
              "    box-shadow: none;\n",
              "  }\n",
              "\n",
              "  .colab-df-spinner {\n",
              "    border: 2px solid var(--fill-color);\n",
              "    border-color: transparent;\n",
              "    border-bottom-color: var(--fill-color);\n",
              "    animation:\n",
              "      spin 1s steps(1) infinite;\n",
              "  }\n",
              "\n",
              "  @keyframes spin {\n",
              "    0% {\n",
              "      border-color: transparent;\n",
              "      border-bottom-color: var(--fill-color);\n",
              "      border-left-color: var(--fill-color);\n",
              "    }\n",
              "    20% {\n",
              "      border-color: transparent;\n",
              "      border-left-color: var(--fill-color);\n",
              "      border-top-color: var(--fill-color);\n",
              "    }\n",
              "    30% {\n",
              "      border-color: transparent;\n",
              "      border-left-color: var(--fill-color);\n",
              "      border-top-color: var(--fill-color);\n",
              "      border-right-color: var(--fill-color);\n",
              "    }\n",
              "    40% {\n",
              "      border-color: transparent;\n",
              "      border-right-color: var(--fill-color);\n",
              "      border-top-color: var(--fill-color);\n",
              "    }\n",
              "    60% {\n",
              "      border-color: transparent;\n",
              "      border-right-color: var(--fill-color);\n",
              "    }\n",
              "    80% {\n",
              "      border-color: transparent;\n",
              "      border-right-color: var(--fill-color);\n",
              "      border-bottom-color: var(--fill-color);\n",
              "    }\n",
              "    90% {\n",
              "      border-color: transparent;\n",
              "      border-bottom-color: var(--fill-color);\n",
              "    }\n",
              "  }\n",
              "</style>\n",
              "\n",
              "  <script>\n",
              "    async function quickchart(key) {\n",
              "      const quickchartButtonEl =\n",
              "        document.querySelector('#' + key + ' button');\n",
              "      quickchartButtonEl.disabled = true;  // To prevent multiple clicks.\n",
              "      quickchartButtonEl.classList.add('colab-df-spinner');\n",
              "      try {\n",
              "        const charts = await google.colab.kernel.invokeFunction(\n",
              "            'suggestCharts', [key], {});\n",
              "      } catch (error) {\n",
              "        console.error('Error during call to suggestCharts:', error);\n",
              "      }\n",
              "      quickchartButtonEl.classList.remove('colab-df-spinner');\n",
              "      quickchartButtonEl.classList.add('colab-df-quickchart-complete');\n",
              "    }\n",
              "    (() => {\n",
              "      let quickchartButtonEl =\n",
              "        document.querySelector('#df-5e5b0bd7-580d-43ba-8426-37707406c658 button');\n",
              "      quickchartButtonEl.style.display =\n",
              "        google.colab.kernel.accessAllowed ? 'block' : 'none';\n",
              "    })();\n",
              "  </script>\n",
              "</div>\n",
              "\n",
              "    </div>\n",
              "  </div>\n"
            ],
            "application/vnd.google.colaboratory.intrinsic+json": {
              "type": "dataframe",
              "summary": "{\n  \"name\": \"train_data\",\n  \"rows\": 3,\n  \"fields\": [\n    {\n      \"column\": \"id\",\n      \"properties\": {\n        \"dtype\": \"string\",\n        \"samples\": [\n          \"TRAIN_315\",\n          \"TRAIN_489\",\n          \"TRAIN_091\"\n        ],\n        \"num_unique_values\": 3,\n        \"semantic_type\": \"\",\n        \"description\": \"\"\n      }\n    },\n    {\n      \"column\": \"\\uc9c8\\ubb38_1\",\n      \"properties\": {\n        \"dtype\": \"string\",\n        \"samples\": [\n          \"\\uc2dc\\uba58\\ud2b8\\uc0ac\\uc774\\ub529\\uc758 \\ub2e8\\uc810\\uc774 \\ubb50\\uc57c?\",\n          \"\\uc625\\uc0c1 \\ubc29\\uc218\\uc6a9 \\ud0c4\\uc131 \\uc5d0\\uba40\\uc804 \\ud398\\uc778\\ud2b8\\uc758 \\uc7a5\\uc810\\uc774 \\ubb50\\uc57c?\",\n          \"\\uc6d0\\ubaa9\\uc0ac\\uc774\\ub529\\uc758 \\ub2e8\\uc810\\uc774 \\ubb50\\uc57c?\"\n        ],\n        \"num_unique_values\": 3,\n        \"semantic_type\": \"\",\n        \"description\": \"\"\n      }\n    },\n    {\n      \"column\": \"\\uc9c8\\ubb38_2\",\n      \"properties\": {\n        \"dtype\": \"string\",\n        \"samples\": [\n          \"\\uc2dc\\uba58\\ud2b8\\uc0ac\\uc774\\ub529\\uc758 \\uc5b4\\ub5a4 \\ub2e8\\uc810\\uc774 \\uc788\\uc744\\uae4c\\uc694?\",\n          \"\\uc625\\uc0c1 \\ubc29\\uc218\\uc6a9 \\ud0c4\\uc131 \\uc5d0\\uba40\\uc804 \\ud398\\uc778\\ud2b8\\ub97c \\uc0ac\\uc6a9\\ud558\\ub294 \\uc774\\uc720\\ub294 \\ubb34\\uc5c7\\uc778\\uac00\\uc694?\",\n          \"\\uc6d0\\ubaa9\\uc0ac\\uc774\\ub529\\uc744 \\uc0ac\\uc6a9\\ud558\\ub294\\ub370 \\uc5b4\\ub5a4 \\ub2e8\\uc810\\uc774 \\uc788\\uc744\\uae4c\\uc694?\"\n        ],\n        \"num_unique_values\": 3,\n        \"semantic_type\": \"\",\n        \"description\": \"\"\n      }\n    },\n    {\n      \"column\": \"category\",\n      \"properties\": {\n        \"dtype\": \"string\",\n        \"samples\": [\n          \"\\uc2dc\\uacf5\",\n          \"\\ub9c8\\uac10\\uc7ac\"\n        ],\n        \"num_unique_values\": 2,\n        \"semantic_type\": \"\",\n        \"description\": \"\"\n      }\n    },\n    {\n      \"column\": \"\\ub2f5\\ubcc0_1\",\n      \"properties\": {\n        \"dtype\": \"string\",\n        \"samples\": [\n          \"\\uc2dc\\uba58\\ud2b8\\uc0ac\\uc774\\ub529\\uc740 \\uc624\\uc5fc\\uc774 \\uc798 \\uc0dd\\uae30\\uace0 \\uc800\\ub834\\ud574\\ubcf4\\uc778\\ub2e4\\ub294 \\uc810\\uc740 \\ub2e8\\uc810\\uc785\\ub2c8\\ub2e4.\",\n          \"\\uc625\\uc0c1 \\ubc29\\uc218\\uc6a9 \\ud0c4\\uc131 \\uc5d0\\uba40\\uc804 \\ud398\\uc778\\ud2b8\\ub294 \\uac74\\uc870 \\ud6c4 \\uc774\\uc74c\\ub9e4 \\uc5c6\\uc774 \\uc5f0\\uc18d\\uc801\\uc73c\\ub85c \\ud615\\uc131\\ub41c \\ub3c4\\ub9c9\\uc774 \\ub6f0\\uc5b4\\ub09c \\ub0b4\\uc218\\uc131\\uc744 \\uac16\\uc73c\\uba70 \\uac74\\ubb3c\\uc758 \\ucda9\\uaca9\\uc774\\ub098 \\uc218\\ucd95\\uacfc \\ud33d\\ucc3d\\uc5d0\\ub3c4 \\ub3c4\\ub9c9\\uc774 \\uac08\\ub77c\\uc9c0\\uac70\\ub098 \\uc190\\uc0c1\\ub418\\ub294 \\uac83\\uc744 \\ubc29\\uc9c0\\ud558\\ub3c4\\ub85d \\ud0c4\\uc131\\uacfc \\uc778\\uc7a5\\uac15\\ub3c4\\ub97c \\ubcf4\\uc720\\ud558\\uba70, \\uce68\\uc218\\uac00 \\ubc18\\ubcf5\\ub418\\ub294 \\uc7a5\\uae30\\uac04\\uc758 \\uc625\\uc678\\ud3ed\\ub85c \\uc870\\uac74\\uc5d0\\uc11c\\ub3c4 \\uc18c\\uc9c0 \\ubd80\\ucc29\\uc131\\uacfc \\ub0b4\\uad6c\\uc131\\uc744 \\ubcf4\\uc720\\ud55c \\ub3c4\\ub8cc\\uc785\\ub2c8\\ub2e4.\"\n        ],\n        \"num_unique_values\": 3,\n        \"semantic_type\": \"\",\n        \"description\": \"\"\n      }\n    },\n    {\n      \"column\": \"\\ub2f5\\ubcc0_2\",\n      \"properties\": {\n        \"dtype\": \"string\",\n        \"samples\": [\n          \"\\uc2dc\\uba58\\ud2b8\\uc0ac\\uc774\\ub529\\uc758 \\ub2e8\\uc810\\uc740 \\uc218\\uba85\\uc774 \\ub2e4\\ub978 \\uc7ac\\ub8cc\\ub4e4\\ubcf4\\ub2e4 \\uc0c1\\ub300\\uc801\\uc73c\\ub85c \\uc9e7\\uc744 \\uc218 \\uc788\\uc73c\\uba70, \\uc870\\uc5fc\\uc5d0 \\ucde8\\uc57d\\ud558\\uace0 \\uc720\\uc9c0\\ubcf4\\uc218\\uac00 \\ud544\\uc694\\ud558\\ub2e4\\ub294 \\uc810\\uc785\\ub2c8\\ub2e4. \\ub610\\ud55c \\uc2dc\\uba58\\ud2b8\\uc0ac\\uc774\\ub529\\uc740 \\uc804\\ubb38\\uac00\\uc5d0\\uac8c \\uc758\\ud574 \\uc124\\uce58\\ub3fc\\uc57c \\ud558\\ubbc0\\ub85c \\ube44\\uc6a9\\uc774 \\uc0c1\\ub300\\uc801\\uc73c\\ub85c \\ub192\\uc744 \\uc218 \\uc788\\uc2b5\\ub2c8\\ub2e4.\",\n          \"\\uc625\\uc0c1 \\ubc29\\uc218\\uc6a9 \\ud0c4\\uc131 \\uc5d0\\uba40\\uc804 \\ud398\\uc778\\ud2b8\\uc758 \\uc7a5\\uc810\\uc740 \\uac74\\uc870 \\ud6c4 \\uc774\\uc74c\\ub9e4 \\uc5c6\\uc774 \\uc5f0\\uc18d\\uc801\\uc73c\\ub85c \\ud615\\uc131\\ub41c \\ub3c4\\ub9c9\\uc774 \\ub6f0\\uc5b4\\ub09c \\ub0b4\\uc218\\uc131\\uc744 \\uac00\\uc9c0\\uace0 \\uc788\\uc5b4 \\uac74\\ubb3c\\uc758 \\ub0b4\\ubd80\\ub97c \\uac15\\ub825\\ud558\\uac8c \\ubcf4\\ud638\\ud574\\uc8fc\\uba70, \\uc218\\ucd95\\uacfc \\ud33d\\ucc3d\\uc5d0\\ub3c4 \\ud0c4\\uc131\\uacfc \\uc778\\uc7a5\\uac15\\ub3c4\\ub97c \\ubcf4\\uc720\\ud558\\uc5ec \\ub3c4\\ub9c9\\uc774 \\uac08\\ub77c\\uc9c0\\uac70\\ub098 \\uc190\\uc0c1\\ub418\\ub294 \\uac83\\uc744 \\ubc29\\uc9c0\\ud569\\ub2c8\\ub2e4. \\ub610\\ud55c, \\uce68\\uc218\\uac00 \\ubc18\\ubcf5\\ub418\\ub294 \\uc7a5\\uae30\\uac04\\uc758 \\uc625\\uc678\\ud3ed\\ub85c \\uc870\\uac74\\uc5d0\\uc11c\\ub3c4 \\uc18c\\uc9c0 \\ubd80\\ucc29\\uc131\\uacfc \\ub0b4\\uad6c\\uc131\\uc744 \\ubcf4\\uc720\\ud558\\uc5ec \\uc218\\uba85\\uc774 \\uc624\\ub7ab\\ub3d9\\uc548 \\uc720\\uc9c0\\ub429\\ub2c8\\ub2e4.\"\n        ],\n        \"num_unique_values\": 3,\n        \"semantic_type\": \"\",\n        \"description\": \"\"\n      }\n    },\n    {\n      \"column\": \"\\ub2f5\\ubcc0_3\",\n      \"properties\": {\n        \"dtype\": \"string\",\n        \"samples\": [\n          \"\\uc2dc\\uba58\\ud2b8\\uc0ac\\uc774\\ub529\\uc758 \\ub2e8\\uc810 \\uc911 \\ud558\\ub098\\ub294 \\uc624\\uc5fc\\uc774 \\uc27d\\uac8c \\uc0dd\\uae34\\ub2e4\\ub294 \\uc810\\uc785\\ub2c8\\ub2e4. \\ub610\\ud55c \\ube44\\uad50\\uc801 \\uc800\\ub834\\ud558\\uac8c \\ubcf4\\uc77c \\uc218 \\uc788\\ub2e4\\ub294 \\uc810 \\uc5ed\\uc2dc \\ub2e8\\uc810\\uc73c\\ub85c \\uaf3d\\ud799\\ub2c8\\ub2e4. \\ucd94\\uac00\\ub85c, \\uc2dc\\uba58\\ud2b8\\uc0ac\\uc774\\ub529\\uc740 \\uc124\\uce58 \\ubc0f \\ubcf4\\uc218\\uc5d0 \\uc0c1\\ub300\\uc801\\uc73c\\ub85c \\ub192\\uc740 \\ube44\\uc6a9\\uc774 \\uc18c\\uc694\\ub420 \\uc218 \\uc788\\uc73c\\uba70, \\ucda9\\uaca9\\uc774\\ub098 \\uac15\\ud55c \\ucda9\\ub3cc\\uc5d0 \\ucde8\\uc57d\\ud55c \\uc810\\ub3c4 \\uace0\\ub824\\ud574\\uc57c \\ud569\\ub2c8\\ub2e4.\",\n          \"\\uc625\\uc0c1 \\ubc29\\uc218\\uc6a9 \\ud0c4\\uc131 \\uc5d0\\uba40\\uc804 \\ud398\\uc778\\ud2b8\\uc758 \\uc7a5\\uc810\\uc740 \\uac74\\uc870 \\ud6c4 \\ub6f0\\uc5b4\\ub09c \\ub0b4\\uc218\\uc131\\uc744 \\uac16\\uace0 \\uc774\\uc74c\\ub9e4 \\uc5c6\\uc774 \\uc5f0\\uc18d\\uc801\\uc778 \\ub3c4\\ub9c9\\uc744 \\ud615\\uc131\\ud55c\\ub2e4\\ub294 \\uac83\\uc785\\ub2c8\\ub2e4. \\uc774 \\ud398\\uc778\\ud2b8\\ub294 \\uac74\\ubb3c\\uc758 \\ucda9\\uaca9, \\uc218\\ucd95, \\ud33d\\ucc3d\\uc5d0 \\uac15\\ud558\\uba70 \\ud0c4\\uc131\\uacfc \\uc778\\uc7a5\\uac15\\ub3c4\\ub97c \\ubcf4\\uc720\\ud558\\uc5ec \\ub3c4\\ub9c9\\uc774 \\uac08\\ub77c\\uc9c0\\uac70\\ub098 \\uc190\\uc0c1\\ub418\\ub294 \\uac83\\uc744 \\ubc29\\uc9c0\\ud569\\ub2c8\\ub2e4. \\ub610\\ud55c \\uc7a5\\uae30\\uac04\\uc758 \\uc625\\uc678 \\ud3ed\\ub85c \\uc870\\uac74\\uc5d0\\uc11c\\ub3c4 \\uc18c\\uc9c0 \\ubd80\\ucc29\\uc131\\uacfc \\ub0b4\\uad6c\\uc131\\uc744 \\ubcf4\\uc720\\ud558\\uace0 \\uc788\\uc5b4 \\uce68\\uc218\\uac00 \\ubc18\\ubcf5\\ub418\\ub294 \\ud658\\uacbd\\uc5d0\\uc11c\\ub3c4 \\uc6b0\\uc218\\ud55c \\uc131\\ub2a5\\uc744 \\ubc1c\\ud718\\ud569\\ub2c8\\ub2e4.\"\n        ],\n        \"num_unique_values\": 3,\n        \"semantic_type\": \"\",\n        \"description\": \"\"\n      }\n    },\n    {\n      \"column\": \"\\ub2f5\\ubcc0_4\",\n      \"properties\": {\n        \"dtype\": \"string\",\n        \"samples\": [\n          \"\\uc2dc\\uba58\\ud2b8\\uc0ac\\uc774\\ub529\\uc758 \\ub2e8\\uc810 \\uc911 \\ud558\\ub098\\ub294 \\uae30\\uc874\\uc5d0 \\ub9d0\\uc500\\ub4dc\\ub9b0 \\ub300\\ub85c \\uc624\\uc5fc\\uc774 \\uc27d\\uac8c \\ubc1c\\uc0dd\\ud55c\\ub2e4\\ub294 \\uc810\\uc785\\ub2c8\\ub2e4. \\ub610\\ud55c, \\uc774\\ub7ec\\ud55c \\uc0ac\\uc774\\ub529\\uc740 \\uc124\\uce58 \\uacfc\\uc815\\uc774 \\ub2e4\\uc18c \\ubcf5\\uc7a1\\ud558\\uace0 \\ubb34\\uac70\\uc6b4 \\uc7ac\\ub8cc\\ub97c \\ub2e4\\ub8e8\\uc5b4\\uc57c \\ud55c\\ub2e4\\ub294 \\uc810 \\uc5ed\\uc2dc \\uace0\\ub824\\ud574\\uc57c \\ud560 \\ub2e8\\uc810\\uc785\\ub2c8\\ub2e4. \\ubd88\\uc21c\\ubb3c\\uc774 \\ud0d1\\uc7ac\\ub418\\uc5b4 \\uc788\\ub294 \\uc2e4\\ub9ac\\uce74 \\uba3c\\uc9c0\\uc5d0 \\ub178\\ucd9c\\ub420 \\uacbd\\uc6b0, \\ud638\\ud761\\uae30 \\ubb38\\uc81c\\uac00 \\ubc1c\\uc0dd\\ud560 \\uc218 \\uc788\\ub2e4\\ub294 \\uc810\\ub3c4 \\uc720\\uc758\\ud574\\uc57c \\ud569\\ub2c8\\ub2e4. \\uadf8\\ub7ec\\ubbc0\\ub85c \\uc2dc\\uba58\\ud2b8\\uc0ac\\uc774\\ub529\\uc744 \\ub2e4\\ub8f0 \\ub54c\\uc5d0\\ub294 \\ubcf4\\ud638\\uc7a5\\ube44\\ub97c \\ucc29\\uc6a9\\ud558\\uace0, \\uc548\\uc804\\uc5d0 \\uc8fc\\uc758\\ub97c \\uae30\\uc6b8\\uc774\\ub294 \\uac83\\uc774 \\uc911\\uc694\\ud569\\ub2c8\\ub2e4.\",\n          \"\\uc625\\uc0c1 \\ubc29\\uc218\\uc6a9 \\ud0c4\\uc131 \\uc5d0\\uba40\\uc804 \\ud398\\uc778\\ud2b8\\uc758 \\uc7a5\\uc810\\uc740 \\uac74\\uc870 \\ud6c4 \\uc774\\uc74c\\ub9e4 \\uc5c6\\uc774 \\uc5f0\\uc18d\\uc801\\uc73c\\ub85c \\ud615\\uc131\\ub41c \\ub3c4\\ub9c9\\uc774 \\ub6f0\\uc5b4\\ub09c \\ub0b4\\uc218\\uc131\\uc744 \\uac16\\uc73c\\uba70, \\uac74\\ubb3c\\uc758 \\ucda9\\uaca9\\uc774\\ub098 \\uc218\\ucd95\\uacfc \\ud33d\\ucc3d\\uc5d0\\ub3c4 \\ub3c4\\ub9c9\\uc774 \\uac08\\ub77c\\uc9c0\\uac70\\ub098 \\uc190\\uc0c1\\ub418\\ub294 \\uac83\\uc744 \\ubc29\\uc9c0\\ud558\\ub3c4\\ub85d \\ud0c4\\uc131\\uacfc \\uc778\\uc7a5\\uac15\\ub3c4\\ub97c \\ubcf4\\uc720\\ud569\\ub2c8\\ub2e4. \\ub610\\ud55c, \\uc7a5\\uae30\\uac04\\uc758 \\uc625\\uc678\\ud3ed\\ub85c \\uc870\\uac74\\uc5d0\\uc11c\\ub3c4 \\uc18c\\uc9c0 \\ubd80\\ucc29\\uc131\\uacfc \\ub0b4\\uad6c\\uc131\\uc744 \\ubcf4\\uc720\\ud558\\uc5ec \\uce68\\uc218\\uac00 \\ubc18\\ubcf5\\ub418\\ub294 \\ud658\\uacbd\\uc5d0\\uc11c\\ub3c4 \\uc6b0\\uc218\\ud55c \\uc131\\ub2a5\\uc744 \\ubc1c\\ud718\\ud569\\ub2c8\\ub2e4.\"\n        ],\n        \"num_unique_values\": 3,\n        \"semantic_type\": \"\",\n        \"description\": \"\"\n      }\n    },\n    {\n      \"column\": \"\\ub2f5\\ubcc0_5\",\n      \"properties\": {\n        \"dtype\": \"string\",\n        \"samples\": [\n          \"\\uc2dc\\uba58\\ud2b8\\uc0ac\\uc774\\ub529\\uc758 \\ub2e8\\uc810\\uc73c\\ub85c\\ub294 \\uc624\\uc5fc\\uc5d0 \\uc27d\\uac8c \\ub178\\ucd9c\\ub418\\uc5b4 \\ubcc0\\uc0c9\\ub418\\ub294 \\uacbd\\ud5a5\\uc774 \\uc788\\uace0, \\ucd08\\uae30 \\ube44\\uc6a9\\uc740 \\ub0ae\\uc544 \\ubcf4\\uc774\\uc9c0\\ub9cc \\uc7a5\\uae30\\uc801\\uc73c\\ub85c \\uc720\\uc9c0 \\ubcf4\\uc218\\uac00 \\ud544\\uc694\\ud574 \\ucd94\\uac00 \\ube44\\uc6a9\\uc774 \\ubc1c\\uc0dd\\ud55c\\ub2e4\\ub294 \\uc810\\uc774 \\uc788\\uc2b5\\ub2c8\\ub2e4.\",\n          \"\\uc625\\uc0c1 \\ubc29\\uc218\\uc6a9 \\ud0c4\\uc131 \\uc5d0\\uba40\\uc804 \\ud398\\uc778\\ud2b8\\uc758 \\uc7a5\\uc810\\uc740 \\uac74\\uc870 \\ud6c4 \\uc774\\uc74c\\ub9e4 \\uc5c6\\uc774 \\uc5f0\\uc18d\\uc801\\uc73c\\ub85c \\ud615\\uc131\\ub41c \\ub3c4\\ub9c9\\uc774 \\ub6f0\\uc5b4\\ub09c \\ub0b4\\uc218\\uc131\\uc744 \\uac00\\uc9c0\\uace0 \\uc788\\uc5b4 \\uac74\\ubb3c\\uc758 \\ucda9\\uaca9, \\uc218\\ucd95, \\ud33d\\ucc3d\\uc5d0\\ub3c4 \\ub3c4\\ub9c9\\uc774 \\uac08\\ub77c\\uc9c0\\uac70\\ub098 \\uc190\\uc0c1\\ub418\\uc9c0 \\uc54a\\uc73c\\uba70, \\uce68\\uc218\\uac00 \\uc7a5\\uae30\\uac04 \\ubc18\\ubcf5\\ub418\\ub294 \\uc625\\uc678\\ud3ed\\ub85c \\uc870\\uac74\\uc5d0\\uc11c\\ub3c4 \\uc18c\\uc9c0 \\ubd80\\ucc29\\uc131\\uacfc \\ub0b4\\uad6c\\uc131\\uc744 \\uc720\\uc9c0\\ud560 \\uc218 \\uc788\\ub294 \\uac83\\uc785\\ub2c8\\ub2e4. \\ub610\\ud55c, \\uc774 \\uc81c\\ud488\\uc740 \\ud0c4\\uc131\\uacfc \\uc778\\uc7a5\\uac15\\ub3c4\\ub97c \\ubcf4\\uc720\\ud558\\uc5ec \\ubc29\\uc218\\uc131\\uc744 \\ub192\\uc77c \\ubfd0\\ub9cc \\uc544\\ub2c8\\ub77c \\uac74\\ucd95\\ubb3c\\uc758 \\uc625\\uc0c1\\uc744 \\ubcf4\\ud638\\ud558\\ub294 \\ub370 \\ud6a8\\uacfc\\uc801\\uc785\\ub2c8\\ub2e4.\"\n        ],\n        \"num_unique_values\": 3,\n        \"semantic_type\": \"\",\n        \"description\": \"\"\n      }\n    }\n  ]\n}"
            }
          },
          "metadata": {},
          "execution_count": 1
        }
      ]
    },
    {
      "cell_type": "code",
      "source": [
        "test_data.sample(3)"
      ],
      "metadata": {
        "colab": {
          "base_uri": "https://localhost:8080/",
          "height": 143
        },
        "id": "oebq-uLDCBfx",
        "outputId": "ebf98a1c-b608-45a0-e2b7-cca2b668c941"
      },
      "execution_count": null,
      "outputs": [
        {
          "output_type": "execute_result",
          "data": {
            "text/plain": [
              "          id                                                 질문\n",
              "38  TEST_038  방청도료 도장 작업을 위해 필요한 단계는 무엇인가요? 또한, 콘크리트 벽에 구멍을 ...\n",
              "46  TEST_046  입구나 복도의 표면에 사용하기 적합한 페인트 종류는 무엇이며, 이 공간을 환영스럽게...\n",
              "65  TEST_065             질석벽지가 아트월이나 현관 입구에서 많이 사용되는 이유는 무엇인가요?"
            ],
            "text/html": [
              "\n",
              "  <div id=\"df-ad458ef5-2db9-4960-b417-a1a801accd81\" class=\"colab-df-container\">\n",
              "    <div>\n",
              "<style scoped>\n",
              "    .dataframe tbody tr th:only-of-type {\n",
              "        vertical-align: middle;\n",
              "    }\n",
              "\n",
              "    .dataframe tbody tr th {\n",
              "        vertical-align: top;\n",
              "    }\n",
              "\n",
              "    .dataframe thead th {\n",
              "        text-align: right;\n",
              "    }\n",
              "</style>\n",
              "<table border=\"1\" class=\"dataframe\">\n",
              "  <thead>\n",
              "    <tr style=\"text-align: right;\">\n",
              "      <th></th>\n",
              "      <th>id</th>\n",
              "      <th>질문</th>\n",
              "    </tr>\n",
              "  </thead>\n",
              "  <tbody>\n",
              "    <tr>\n",
              "      <th>38</th>\n",
              "      <td>TEST_038</td>\n",
              "      <td>방청도료 도장 작업을 위해 필요한 단계는 무엇인가요? 또한, 콘크리트 벽에 구멍을 ...</td>\n",
              "    </tr>\n",
              "    <tr>\n",
              "      <th>46</th>\n",
              "      <td>TEST_046</td>\n",
              "      <td>입구나 복도의 표면에 사용하기 적합한 페인트 종류는 무엇이며, 이 공간을 환영스럽게...</td>\n",
              "    </tr>\n",
              "    <tr>\n",
              "      <th>65</th>\n",
              "      <td>TEST_065</td>\n",
              "      <td>질석벽지가 아트월이나 현관 입구에서 많이 사용되는 이유는 무엇인가요?</td>\n",
              "    </tr>\n",
              "  </tbody>\n",
              "</table>\n",
              "</div>\n",
              "    <div class=\"colab-df-buttons\">\n",
              "\n",
              "  <div class=\"colab-df-container\">\n",
              "    <button class=\"colab-df-convert\" onclick=\"convertToInteractive('df-ad458ef5-2db9-4960-b417-a1a801accd81')\"\n",
              "            title=\"Convert this dataframe to an interactive table.\"\n",
              "            style=\"display:none;\">\n",
              "\n",
              "  <svg xmlns=\"http://www.w3.org/2000/svg\" height=\"24px\" viewBox=\"0 -960 960 960\">\n",
              "    <path d=\"M120-120v-720h720v720H120Zm60-500h600v-160H180v160Zm220 220h160v-160H400v160Zm0 220h160v-160H400v160ZM180-400h160v-160H180v160Zm440 0h160v-160H620v160ZM180-180h160v-160H180v160Zm440 0h160v-160H620v160Z\"/>\n",
              "  </svg>\n",
              "    </button>\n",
              "\n",
              "  <style>\n",
              "    .colab-df-container {\n",
              "      display:flex;\n",
              "      gap: 12px;\n",
              "    }\n",
              "\n",
              "    .colab-df-convert {\n",
              "      background-color: #E8F0FE;\n",
              "      border: none;\n",
              "      border-radius: 50%;\n",
              "      cursor: pointer;\n",
              "      display: none;\n",
              "      fill: #1967D2;\n",
              "      height: 32px;\n",
              "      padding: 0 0 0 0;\n",
              "      width: 32px;\n",
              "    }\n",
              "\n",
              "    .colab-df-convert:hover {\n",
              "      background-color: #E2EBFA;\n",
              "      box-shadow: 0px 1px 2px rgba(60, 64, 67, 0.3), 0px 1px 3px 1px rgba(60, 64, 67, 0.15);\n",
              "      fill: #174EA6;\n",
              "    }\n",
              "\n",
              "    .colab-df-buttons div {\n",
              "      margin-bottom: 4px;\n",
              "    }\n",
              "\n",
              "    [theme=dark] .colab-df-convert {\n",
              "      background-color: #3B4455;\n",
              "      fill: #D2E3FC;\n",
              "    }\n",
              "\n",
              "    [theme=dark] .colab-df-convert:hover {\n",
              "      background-color: #434B5C;\n",
              "      box-shadow: 0px 1px 3px 1px rgba(0, 0, 0, 0.15);\n",
              "      filter: drop-shadow(0px 1px 2px rgba(0, 0, 0, 0.3));\n",
              "      fill: #FFFFFF;\n",
              "    }\n",
              "  </style>\n",
              "\n",
              "    <script>\n",
              "      const buttonEl =\n",
              "        document.querySelector('#df-ad458ef5-2db9-4960-b417-a1a801accd81 button.colab-df-convert');\n",
              "      buttonEl.style.display =\n",
              "        google.colab.kernel.accessAllowed ? 'block' : 'none';\n",
              "\n",
              "      async function convertToInteractive(key) {\n",
              "        const element = document.querySelector('#df-ad458ef5-2db9-4960-b417-a1a801accd81');\n",
              "        const dataTable =\n",
              "          await google.colab.kernel.invokeFunction('convertToInteractive',\n",
              "                                                    [key], {});\n",
              "        if (!dataTable) return;\n",
              "\n",
              "        const docLinkHtml = 'Like what you see? Visit the ' +\n",
              "          '<a target=\"_blank\" href=https://colab.research.google.com/notebooks/data_table.ipynb>data table notebook</a>'\n",
              "          + ' to learn more about interactive tables.';\n",
              "        element.innerHTML = '';\n",
              "        dataTable['output_type'] = 'display_data';\n",
              "        await google.colab.output.renderOutput(dataTable, element);\n",
              "        const docLink = document.createElement('div');\n",
              "        docLink.innerHTML = docLinkHtml;\n",
              "        element.appendChild(docLink);\n",
              "      }\n",
              "    </script>\n",
              "  </div>\n",
              "\n",
              "\n",
              "<div id=\"df-80e2420d-ceac-4a16-8450-7d84765be520\">\n",
              "  <button class=\"colab-df-quickchart\" onclick=\"quickchart('df-80e2420d-ceac-4a16-8450-7d84765be520')\"\n",
              "            title=\"Suggest charts\"\n",
              "            style=\"display:none;\">\n",
              "\n",
              "<svg xmlns=\"http://www.w3.org/2000/svg\" height=\"24px\"viewBox=\"0 0 24 24\"\n",
              "     width=\"24px\">\n",
              "    <g>\n",
              "        <path d=\"M19 3H5c-1.1 0-2 .9-2 2v14c0 1.1.9 2 2 2h14c1.1 0 2-.9 2-2V5c0-1.1-.9-2-2-2zM9 17H7v-7h2v7zm4 0h-2V7h2v10zm4 0h-2v-4h2v4z\"/>\n",
              "    </g>\n",
              "</svg>\n",
              "  </button>\n",
              "\n",
              "<style>\n",
              "  .colab-df-quickchart {\n",
              "      --bg-color: #E8F0FE;\n",
              "      --fill-color: #1967D2;\n",
              "      --hover-bg-color: #E2EBFA;\n",
              "      --hover-fill-color: #174EA6;\n",
              "      --disabled-fill-color: #AAA;\n",
              "      --disabled-bg-color: #DDD;\n",
              "  }\n",
              "\n",
              "  [theme=dark] .colab-df-quickchart {\n",
              "      --bg-color: #3B4455;\n",
              "      --fill-color: #D2E3FC;\n",
              "      --hover-bg-color: #434B5C;\n",
              "      --hover-fill-color: #FFFFFF;\n",
              "      --disabled-bg-color: #3B4455;\n",
              "      --disabled-fill-color: #666;\n",
              "  }\n",
              "\n",
              "  .colab-df-quickchart {\n",
              "    background-color: var(--bg-color);\n",
              "    border: none;\n",
              "    border-radius: 50%;\n",
              "    cursor: pointer;\n",
              "    display: none;\n",
              "    fill: var(--fill-color);\n",
              "    height: 32px;\n",
              "    padding: 0;\n",
              "    width: 32px;\n",
              "  }\n",
              "\n",
              "  .colab-df-quickchart:hover {\n",
              "    background-color: var(--hover-bg-color);\n",
              "    box-shadow: 0 1px 2px rgba(60, 64, 67, 0.3), 0 1px 3px 1px rgba(60, 64, 67, 0.15);\n",
              "    fill: var(--button-hover-fill-color);\n",
              "  }\n",
              "\n",
              "  .colab-df-quickchart-complete:disabled,\n",
              "  .colab-df-quickchart-complete:disabled:hover {\n",
              "    background-color: var(--disabled-bg-color);\n",
              "    fill: var(--disabled-fill-color);\n",
              "    box-shadow: none;\n",
              "  }\n",
              "\n",
              "  .colab-df-spinner {\n",
              "    border: 2px solid var(--fill-color);\n",
              "    border-color: transparent;\n",
              "    border-bottom-color: var(--fill-color);\n",
              "    animation:\n",
              "      spin 1s steps(1) infinite;\n",
              "  }\n",
              "\n",
              "  @keyframes spin {\n",
              "    0% {\n",
              "      border-color: transparent;\n",
              "      border-bottom-color: var(--fill-color);\n",
              "      border-left-color: var(--fill-color);\n",
              "    }\n",
              "    20% {\n",
              "      border-color: transparent;\n",
              "      border-left-color: var(--fill-color);\n",
              "      border-top-color: var(--fill-color);\n",
              "    }\n",
              "    30% {\n",
              "      border-color: transparent;\n",
              "      border-left-color: var(--fill-color);\n",
              "      border-top-color: var(--fill-color);\n",
              "      border-right-color: var(--fill-color);\n",
              "    }\n",
              "    40% {\n",
              "      border-color: transparent;\n",
              "      border-right-color: var(--fill-color);\n",
              "      border-top-color: var(--fill-color);\n",
              "    }\n",
              "    60% {\n",
              "      border-color: transparent;\n",
              "      border-right-color: var(--fill-color);\n",
              "    }\n",
              "    80% {\n",
              "      border-color: transparent;\n",
              "      border-right-color: var(--fill-color);\n",
              "      border-bottom-color: var(--fill-color);\n",
              "    }\n",
              "    90% {\n",
              "      border-color: transparent;\n",
              "      border-bottom-color: var(--fill-color);\n",
              "    }\n",
              "  }\n",
              "</style>\n",
              "\n",
              "  <script>\n",
              "    async function quickchart(key) {\n",
              "      const quickchartButtonEl =\n",
              "        document.querySelector('#' + key + ' button');\n",
              "      quickchartButtonEl.disabled = true;  // To prevent multiple clicks.\n",
              "      quickchartButtonEl.classList.add('colab-df-spinner');\n",
              "      try {\n",
              "        const charts = await google.colab.kernel.invokeFunction(\n",
              "            'suggestCharts', [key], {});\n",
              "      } catch (error) {\n",
              "        console.error('Error during call to suggestCharts:', error);\n",
              "      }\n",
              "      quickchartButtonEl.classList.remove('colab-df-spinner');\n",
              "      quickchartButtonEl.classList.add('colab-df-quickchart-complete');\n",
              "    }\n",
              "    (() => {\n",
              "      let quickchartButtonEl =\n",
              "        document.querySelector('#df-80e2420d-ceac-4a16-8450-7d84765be520 button');\n",
              "      quickchartButtonEl.style.display =\n",
              "        google.colab.kernel.accessAllowed ? 'block' : 'none';\n",
              "    })();\n",
              "  </script>\n",
              "</div>\n",
              "\n",
              "    </div>\n",
              "  </div>\n"
            ],
            "application/vnd.google.colaboratory.intrinsic+json": {
              "type": "dataframe",
              "summary": "{\n  \"name\": \"test_data\",\n  \"rows\": 3,\n  \"fields\": [\n    {\n      \"column\": \"id\",\n      \"properties\": {\n        \"dtype\": \"string\",\n        \"samples\": [\n          \"TEST_038\",\n          \"TEST_046\",\n          \"TEST_065\"\n        ],\n        \"num_unique_values\": 3,\n        \"semantic_type\": \"\",\n        \"description\": \"\"\n      }\n    },\n    {\n      \"column\": \"\\uc9c8\\ubb38\",\n      \"properties\": {\n        \"dtype\": \"string\",\n        \"samples\": [\n          \"\\ubc29\\uccad\\ub3c4\\ub8cc \\ub3c4\\uc7a5 \\uc791\\uc5c5\\uc744 \\uc704\\ud574 \\ud544\\uc694\\ud55c \\ub2e8\\uacc4\\ub294 \\ubb34\\uc5c7\\uc778\\uac00\\uc694? \\ub610\\ud55c, \\ucf58\\ud06c\\ub9ac\\ud2b8 \\ubcbd\\uc5d0 \\uad6c\\uba4d\\uc744 \\ub6ab\\ub294 \\ubc29\\ubc95\\uc5d0\\ub294 \\uc5b4\\ub5a4 \\ub3c4\\uad6c\\ub098 \\uae30\\uc220\\uc744 \\uc0ac\\uc6a9\\ud574\\uc57c \\ud558\\ub098\\uc694?\",\n          \"\\uc785\\uad6c\\ub098 \\ubcf5\\ub3c4\\uc758 \\ud45c\\uba74\\uc5d0 \\uc0ac\\uc6a9\\ud558\\uae30 \\uc801\\ud569\\ud55c \\ud398\\uc778\\ud2b8 \\uc885\\ub958\\ub294 \\ubb34\\uc5c7\\uc774\\uba70, \\uc774 \\uacf5\\uac04\\uc744 \\ud658\\uc601\\uc2a4\\ub7fd\\uac8c \\uafb8\\ubbf8\\ub294 \\ub370 \\uc788\\uc5b4 \\uc5b4\\ub5a4 \\uc778\\ud14c\\ub9ac\\uc5b4 \\uc694\\uc18c\\uac00 \\uc911\\uc694\\ud55c\\uac00\\uc694?\",\n          \"\\uc9c8\\uc11d\\ubcbd\\uc9c0\\uac00 \\uc544\\ud2b8\\uc6d4\\uc774\\ub098 \\ud604\\uad00 \\uc785\\uad6c\\uc5d0\\uc11c \\ub9ce\\uc774 \\uc0ac\\uc6a9\\ub418\\ub294 \\uc774\\uc720\\ub294 \\ubb34\\uc5c7\\uc778\\uac00\\uc694?\"\n        ],\n        \"num_unique_values\": 3,\n        \"semantic_type\": \"\",\n        \"description\": \"\"\n      }\n    }\n  ]\n}"
            }
          },
          "metadata": {},
          "execution_count": 2
        }
      ]
    },
    {
      "cell_type": "code",
      "source": [
        "train_data[(train_data['질문_1'].apply(lambda x: '석고' in x))&\n",
        "          (train_data['질문_1'].apply(lambda x: '수정' in x))]"
      ],
      "metadata": {
        "colab": {
          "base_uri": "https://localhost:8080/",
          "height": 522
        },
        "id": "6TkAUBhCCBh-",
        "outputId": "51de815a-f0e6-467b-d8c5-1c8f4645c140"
      },
      "execution_count": null,
      "outputs": [
        {
          "output_type": "execute_result",
          "data": {
            "text/plain": [
              "            id                         질문_1  \\\n",
              "340  TRAIN_340    높은 습도에 의해 석고수정이 발생할 수 있어?   \n",
              "366  TRAIN_366   물리적 변화에 의해 석고수정이 발생할 수 있어?   \n",
              "376  TRAIN_376  구조적 결함으로 인해 석고수정이 발생할 수 있어?   \n",
              "384  TRAIN_384                    석고수정이 뭐야?   \n",
              "\n",
              "                                             질문_2 category  \\\n",
              "340  높은 습도로 인해 석고수정이 발생하는 경우, 그것을 예방하는 방법은 무엇인가요?     마감하자   \n",
              "366                물리적 변화로 석고수정이 생길 수 있는 경우가 있나요?     마감하자   \n",
              "376              구조적 결함으로 인해 석고수정이 발생할 가능성이 있는가요?     마감하자   \n",
              "384                           석고수정은 어떤 용도로 사용되나요?     마감하자   \n",
              "\n",
              "                                                  답변_1  \\\n",
              "340     석고는 습기를 흡수하고 물에 녹는 성질이 있기에 습도가 높으면 변형될 수 있습니다.   \n",
              "366  건물이 오래되거나 지진 등의 물리적인 변화가 발생하면 벽을 이루고 있는 석고의 수정...   \n",
              "376                건물 자체의 구조적 결함에 의해 석고수정이 발생할 수 있습니다.   \n",
              "384  벽을 이루고 있는 석고에 훼손이 있는 경우를 석고수정이라고 합니다. 석고수정이 발생...   \n",
              "\n",
              "                                                  답변_2  \\\n",
              "340  석고가 습기를 흡수하고 물에 녹는 성질이 있기 때문에 높은 습도에 노출될 경우 석고...   \n",
              "366  물리적 변화에 의해 석고수정은 발생할 수 있습니다. 건물이 오래되거나 지진 등의 물...   \n",
              "376  구조적 결함으로 인해 석고수정이 발생할 수 있습니다. 건물 구조의 결함은 건물의 안...   \n",
              "384  석고수정이란 벽을 이루는 석고에 훼손이 발생한 상태를 말합니다. 보편적인 원인으로는...   \n",
              "\n",
              "                                                  답변_3  \\\n",
              "340  석고는 습기를 흡수하고 물에 녹는 특성을 가지고 있기 때문에, 높은 습도의 환경에서...   \n",
              "366  물리적 변화에 의해 석고 수정이 발생하는 것은 가능합니다. 건물이 오래되거나 지진과...   \n",
              "376  건물 자체의 구조적 결함으로 인해 석고수정이 발생할 수 있습니다. 이는 건물 구조의...   \n",
              "384  석고 수정은 벽을 이루고 있는 석고에 훼손이 생겼을 때 발생하는 현상을 말합니다. ...   \n",
              "\n",
              "                                                  답변_4  \\\n",
              "340  석고는 습기를 흡수하고 물에 녹는 성질이 있어서, 고습 환경에서는 석고수정이 발생할...   \n",
              "366  물리적인 변화에 의해 건물이 오래되거나 지진 등의 영향을 받으면 벽을 이루고 있는 ...   \n",
              "376  석고수정은 건물의 구조적 결함으로 인해 발생할 수 있습니다. 건물 구조적 결함은 건...   \n",
              "384  석고수정은 벽을 이루고 있는 석고에 손상이나 변형이 발생하는 현상을 의미합니다. 석...   \n",
              "\n",
              "                                                  답변_5  \n",
              "340  석고는 습기를 흡수하고 물에 녹는 성질이 있기에 습도가 높으면 석고가 변형될 수 있...  \n",
              "366  물리적인 변화로 인해 건물이 오랜 시간 동안 노출되거나 지진과 같은 외부 요인에 의...  \n",
              "376  건물의 구조적 결함은 석고수정의 발생을 유발할 수 있습니다. 구조적 결함은 건축물의...  \n",
              "384  석고수정은 벽을 이루고 있는 석고에 손상 또는 변형이 발생하는 현상을 말합니다. 석...  "
            ],
            "text/html": [
              "\n",
              "  <div id=\"df-671ca681-59ba-4bd9-8be6-0f7083474fa7\" class=\"colab-df-container\">\n",
              "    <div>\n",
              "<style scoped>\n",
              "    .dataframe tbody tr th:only-of-type {\n",
              "        vertical-align: middle;\n",
              "    }\n",
              "\n",
              "    .dataframe tbody tr th {\n",
              "        vertical-align: top;\n",
              "    }\n",
              "\n",
              "    .dataframe thead th {\n",
              "        text-align: right;\n",
              "    }\n",
              "</style>\n",
              "<table border=\"1\" class=\"dataframe\">\n",
              "  <thead>\n",
              "    <tr style=\"text-align: right;\">\n",
              "      <th></th>\n",
              "      <th>id</th>\n",
              "      <th>질문_1</th>\n",
              "      <th>질문_2</th>\n",
              "      <th>category</th>\n",
              "      <th>답변_1</th>\n",
              "      <th>답변_2</th>\n",
              "      <th>답변_3</th>\n",
              "      <th>답변_4</th>\n",
              "      <th>답변_5</th>\n",
              "    </tr>\n",
              "  </thead>\n",
              "  <tbody>\n",
              "    <tr>\n",
              "      <th>340</th>\n",
              "      <td>TRAIN_340</td>\n",
              "      <td>높은 습도에 의해 석고수정이 발생할 수 있어?</td>\n",
              "      <td>높은 습도로 인해 석고수정이 발생하는 경우, 그것을 예방하는 방법은 무엇인가요?</td>\n",
              "      <td>마감하자</td>\n",
              "      <td>석고는 습기를 흡수하고 물에 녹는 성질이 있기에 습도가 높으면 변형될 수 있습니다.</td>\n",
              "      <td>석고가 습기를 흡수하고 물에 녹는 성질이 있기 때문에 높은 습도에 노출될 경우 석고...</td>\n",
              "      <td>석고는 습기를 흡수하고 물에 녹는 특성을 가지고 있기 때문에, 높은 습도의 환경에서...</td>\n",
              "      <td>석고는 습기를 흡수하고 물에 녹는 성질이 있어서, 고습 환경에서는 석고수정이 발생할...</td>\n",
              "      <td>석고는 습기를 흡수하고 물에 녹는 성질이 있기에 습도가 높으면 석고가 변형될 수 있...</td>\n",
              "    </tr>\n",
              "    <tr>\n",
              "      <th>366</th>\n",
              "      <td>TRAIN_366</td>\n",
              "      <td>물리적 변화에 의해 석고수정이 발생할 수 있어?</td>\n",
              "      <td>물리적 변화로 석고수정이 생길 수 있는 경우가 있나요?</td>\n",
              "      <td>마감하자</td>\n",
              "      <td>건물이 오래되거나 지진 등의 물리적인 변화가 발생하면 벽을 이루고 있는 석고의 수정...</td>\n",
              "      <td>물리적 변화에 의해 석고수정은 발생할 수 있습니다. 건물이 오래되거나 지진 등의 물...</td>\n",
              "      <td>물리적 변화에 의해 석고 수정이 발생하는 것은 가능합니다. 건물이 오래되거나 지진과...</td>\n",
              "      <td>물리적인 변화에 의해 건물이 오래되거나 지진 등의 영향을 받으면 벽을 이루고 있는 ...</td>\n",
              "      <td>물리적인 변화로 인해 건물이 오랜 시간 동안 노출되거나 지진과 같은 외부 요인에 의...</td>\n",
              "    </tr>\n",
              "    <tr>\n",
              "      <th>376</th>\n",
              "      <td>TRAIN_376</td>\n",
              "      <td>구조적 결함으로 인해 석고수정이 발생할 수 있어?</td>\n",
              "      <td>구조적 결함으로 인해 석고수정이 발생할 가능성이 있는가요?</td>\n",
              "      <td>마감하자</td>\n",
              "      <td>건물 자체의 구조적 결함에 의해 석고수정이 발생할 수 있습니다.</td>\n",
              "      <td>구조적 결함으로 인해 석고수정이 발생할 수 있습니다. 건물 구조의 결함은 건물의 안...</td>\n",
              "      <td>건물 자체의 구조적 결함으로 인해 석고수정이 발생할 수 있습니다. 이는 건물 구조의...</td>\n",
              "      <td>석고수정은 건물의 구조적 결함으로 인해 발생할 수 있습니다. 건물 구조적 결함은 건...</td>\n",
              "      <td>건물의 구조적 결함은 석고수정의 발생을 유발할 수 있습니다. 구조적 결함은 건축물의...</td>\n",
              "    </tr>\n",
              "    <tr>\n",
              "      <th>384</th>\n",
              "      <td>TRAIN_384</td>\n",
              "      <td>석고수정이 뭐야?</td>\n",
              "      <td>석고수정은 어떤 용도로 사용되나요?</td>\n",
              "      <td>마감하자</td>\n",
              "      <td>벽을 이루고 있는 석고에 훼손이 있는 경우를 석고수정이라고 합니다. 석고수정이 발생...</td>\n",
              "      <td>석고수정이란 벽을 이루는 석고에 훼손이 발생한 상태를 말합니다. 보편적인 원인으로는...</td>\n",
              "      <td>석고 수정은 벽을 이루고 있는 석고에 훼손이 생겼을 때 발생하는 현상을 말합니다. ...</td>\n",
              "      <td>석고수정은 벽을 이루고 있는 석고에 손상이나 변형이 발생하는 현상을 의미합니다. 석...</td>\n",
              "      <td>석고수정은 벽을 이루고 있는 석고에 손상 또는 변형이 발생하는 현상을 말합니다. 석...</td>\n",
              "    </tr>\n",
              "  </tbody>\n",
              "</table>\n",
              "</div>\n",
              "    <div class=\"colab-df-buttons\">\n",
              "\n",
              "  <div class=\"colab-df-container\">\n",
              "    <button class=\"colab-df-convert\" onclick=\"convertToInteractive('df-671ca681-59ba-4bd9-8be6-0f7083474fa7')\"\n",
              "            title=\"Convert this dataframe to an interactive table.\"\n",
              "            style=\"display:none;\">\n",
              "\n",
              "  <svg xmlns=\"http://www.w3.org/2000/svg\" height=\"24px\" viewBox=\"0 -960 960 960\">\n",
              "    <path d=\"M120-120v-720h720v720H120Zm60-500h600v-160H180v160Zm220 220h160v-160H400v160Zm0 220h160v-160H400v160ZM180-400h160v-160H180v160Zm440 0h160v-160H620v160ZM180-180h160v-160H180v160Zm440 0h160v-160H620v160Z\"/>\n",
              "  </svg>\n",
              "    </button>\n",
              "\n",
              "  <style>\n",
              "    .colab-df-container {\n",
              "      display:flex;\n",
              "      gap: 12px;\n",
              "    }\n",
              "\n",
              "    .colab-df-convert {\n",
              "      background-color: #E8F0FE;\n",
              "      border: none;\n",
              "      border-radius: 50%;\n",
              "      cursor: pointer;\n",
              "      display: none;\n",
              "      fill: #1967D2;\n",
              "      height: 32px;\n",
              "      padding: 0 0 0 0;\n",
              "      width: 32px;\n",
              "    }\n",
              "\n",
              "    .colab-df-convert:hover {\n",
              "      background-color: #E2EBFA;\n",
              "      box-shadow: 0px 1px 2px rgba(60, 64, 67, 0.3), 0px 1px 3px 1px rgba(60, 64, 67, 0.15);\n",
              "      fill: #174EA6;\n",
              "    }\n",
              "\n",
              "    .colab-df-buttons div {\n",
              "      margin-bottom: 4px;\n",
              "    }\n",
              "\n",
              "    [theme=dark] .colab-df-convert {\n",
              "      background-color: #3B4455;\n",
              "      fill: #D2E3FC;\n",
              "    }\n",
              "\n",
              "    [theme=dark] .colab-df-convert:hover {\n",
              "      background-color: #434B5C;\n",
              "      box-shadow: 0px 1px 3px 1px rgba(0, 0, 0, 0.15);\n",
              "      filter: drop-shadow(0px 1px 2px rgba(0, 0, 0, 0.3));\n",
              "      fill: #FFFFFF;\n",
              "    }\n",
              "  </style>\n",
              "\n",
              "    <script>\n",
              "      const buttonEl =\n",
              "        document.querySelector('#df-671ca681-59ba-4bd9-8be6-0f7083474fa7 button.colab-df-convert');\n",
              "      buttonEl.style.display =\n",
              "        google.colab.kernel.accessAllowed ? 'block' : 'none';\n",
              "\n",
              "      async function convertToInteractive(key) {\n",
              "        const element = document.querySelector('#df-671ca681-59ba-4bd9-8be6-0f7083474fa7');\n",
              "        const dataTable =\n",
              "          await google.colab.kernel.invokeFunction('convertToInteractive',\n",
              "                                                    [key], {});\n",
              "        if (!dataTable) return;\n",
              "\n",
              "        const docLinkHtml = 'Like what you see? Visit the ' +\n",
              "          '<a target=\"_blank\" href=https://colab.research.google.com/notebooks/data_table.ipynb>data table notebook</a>'\n",
              "          + ' to learn more about interactive tables.';\n",
              "        element.innerHTML = '';\n",
              "        dataTable['output_type'] = 'display_data';\n",
              "        await google.colab.output.renderOutput(dataTable, element);\n",
              "        const docLink = document.createElement('div');\n",
              "        docLink.innerHTML = docLinkHtml;\n",
              "        element.appendChild(docLink);\n",
              "      }\n",
              "    </script>\n",
              "  </div>\n",
              "\n",
              "\n",
              "<div id=\"df-157771ae-1afd-46f5-ac4e-bc18ab8acce4\">\n",
              "  <button class=\"colab-df-quickchart\" onclick=\"quickchart('df-157771ae-1afd-46f5-ac4e-bc18ab8acce4')\"\n",
              "            title=\"Suggest charts\"\n",
              "            style=\"display:none;\">\n",
              "\n",
              "<svg xmlns=\"http://www.w3.org/2000/svg\" height=\"24px\"viewBox=\"0 0 24 24\"\n",
              "     width=\"24px\">\n",
              "    <g>\n",
              "        <path d=\"M19 3H5c-1.1 0-2 .9-2 2v14c0 1.1.9 2 2 2h14c1.1 0 2-.9 2-2V5c0-1.1-.9-2-2-2zM9 17H7v-7h2v7zm4 0h-2V7h2v10zm4 0h-2v-4h2v4z\"/>\n",
              "    </g>\n",
              "</svg>\n",
              "  </button>\n",
              "\n",
              "<style>\n",
              "  .colab-df-quickchart {\n",
              "      --bg-color: #E8F0FE;\n",
              "      --fill-color: #1967D2;\n",
              "      --hover-bg-color: #E2EBFA;\n",
              "      --hover-fill-color: #174EA6;\n",
              "      --disabled-fill-color: #AAA;\n",
              "      --disabled-bg-color: #DDD;\n",
              "  }\n",
              "\n",
              "  [theme=dark] .colab-df-quickchart {\n",
              "      --bg-color: #3B4455;\n",
              "      --fill-color: #D2E3FC;\n",
              "      --hover-bg-color: #434B5C;\n",
              "      --hover-fill-color: #FFFFFF;\n",
              "      --disabled-bg-color: #3B4455;\n",
              "      --disabled-fill-color: #666;\n",
              "  }\n",
              "\n",
              "  .colab-df-quickchart {\n",
              "    background-color: var(--bg-color);\n",
              "    border: none;\n",
              "    border-radius: 50%;\n",
              "    cursor: pointer;\n",
              "    display: none;\n",
              "    fill: var(--fill-color);\n",
              "    height: 32px;\n",
              "    padding: 0;\n",
              "    width: 32px;\n",
              "  }\n",
              "\n",
              "  .colab-df-quickchart:hover {\n",
              "    background-color: var(--hover-bg-color);\n",
              "    box-shadow: 0 1px 2px rgba(60, 64, 67, 0.3), 0 1px 3px 1px rgba(60, 64, 67, 0.15);\n",
              "    fill: var(--button-hover-fill-color);\n",
              "  }\n",
              "\n",
              "  .colab-df-quickchart-complete:disabled,\n",
              "  .colab-df-quickchart-complete:disabled:hover {\n",
              "    background-color: var(--disabled-bg-color);\n",
              "    fill: var(--disabled-fill-color);\n",
              "    box-shadow: none;\n",
              "  }\n",
              "\n",
              "  .colab-df-spinner {\n",
              "    border: 2px solid var(--fill-color);\n",
              "    border-color: transparent;\n",
              "    border-bottom-color: var(--fill-color);\n",
              "    animation:\n",
              "      spin 1s steps(1) infinite;\n",
              "  }\n",
              "\n",
              "  @keyframes spin {\n",
              "    0% {\n",
              "      border-color: transparent;\n",
              "      border-bottom-color: var(--fill-color);\n",
              "      border-left-color: var(--fill-color);\n",
              "    }\n",
              "    20% {\n",
              "      border-color: transparent;\n",
              "      border-left-color: var(--fill-color);\n",
              "      border-top-color: var(--fill-color);\n",
              "    }\n",
              "    30% {\n",
              "      border-color: transparent;\n",
              "      border-left-color: var(--fill-color);\n",
              "      border-top-color: var(--fill-color);\n",
              "      border-right-color: var(--fill-color);\n",
              "    }\n",
              "    40% {\n",
              "      border-color: transparent;\n",
              "      border-right-color: var(--fill-color);\n",
              "      border-top-color: var(--fill-color);\n",
              "    }\n",
              "    60% {\n",
              "      border-color: transparent;\n",
              "      border-right-color: var(--fill-color);\n",
              "    }\n",
              "    80% {\n",
              "      border-color: transparent;\n",
              "      border-right-color: var(--fill-color);\n",
              "      border-bottom-color: var(--fill-color);\n",
              "    }\n",
              "    90% {\n",
              "      border-color: transparent;\n",
              "      border-bottom-color: var(--fill-color);\n",
              "    }\n",
              "  }\n",
              "</style>\n",
              "\n",
              "  <script>\n",
              "    async function quickchart(key) {\n",
              "      const quickchartButtonEl =\n",
              "        document.querySelector('#' + key + ' button');\n",
              "      quickchartButtonEl.disabled = true;  // To prevent multiple clicks.\n",
              "      quickchartButtonEl.classList.add('colab-df-spinner');\n",
              "      try {\n",
              "        const charts = await google.colab.kernel.invokeFunction(\n",
              "            'suggestCharts', [key], {});\n",
              "      } catch (error) {\n",
              "        console.error('Error during call to suggestCharts:', error);\n",
              "      }\n",
              "      quickchartButtonEl.classList.remove('colab-df-spinner');\n",
              "      quickchartButtonEl.classList.add('colab-df-quickchart-complete');\n",
              "    }\n",
              "    (() => {\n",
              "      let quickchartButtonEl =\n",
              "        document.querySelector('#df-157771ae-1afd-46f5-ac4e-bc18ab8acce4 button');\n",
              "      quickchartButtonEl.style.display =\n",
              "        google.colab.kernel.accessAllowed ? 'block' : 'none';\n",
              "    })();\n",
              "  </script>\n",
              "</div>\n",
              "\n",
              "    </div>\n",
              "  </div>\n"
            ],
            "application/vnd.google.colaboratory.intrinsic+json": {
              "type": "dataframe",
              "summary": "{\n  \"name\": \"          (train_data['\\uc9c8\\ubb38_1']\",\n  \"rows\": 4,\n  \"fields\": [\n    {\n      \"column\": \"id\",\n      \"properties\": {\n        \"dtype\": \"string\",\n        \"samples\": [\n          \"TRAIN_366\",\n          \"TRAIN_384\",\n          \"TRAIN_340\"\n        ],\n        \"num_unique_values\": 4,\n        \"semantic_type\": \"\",\n        \"description\": \"\"\n      }\n    },\n    {\n      \"column\": \"\\uc9c8\\ubb38_1\",\n      \"properties\": {\n        \"dtype\": \"string\",\n        \"samples\": [\n          \"\\ubb3c\\ub9ac\\uc801 \\ubcc0\\ud654\\uc5d0 \\uc758\\ud574 \\uc11d\\uace0\\uc218\\uc815\\uc774 \\ubc1c\\uc0dd\\ud560 \\uc218 \\uc788\\uc5b4?\",\n          \"\\uc11d\\uace0\\uc218\\uc815\\uc774 \\ubb50\\uc57c?\",\n          \"\\ub192\\uc740 \\uc2b5\\ub3c4\\uc5d0 \\uc758\\ud574 \\uc11d\\uace0\\uc218\\uc815\\uc774 \\ubc1c\\uc0dd\\ud560 \\uc218 \\uc788\\uc5b4?\"\n        ],\n        \"num_unique_values\": 4,\n        \"semantic_type\": \"\",\n        \"description\": \"\"\n      }\n    },\n    {\n      \"column\": \"\\uc9c8\\ubb38_2\",\n      \"properties\": {\n        \"dtype\": \"string\",\n        \"samples\": [\n          \"\\ubb3c\\ub9ac\\uc801 \\ubcc0\\ud654\\ub85c \\uc11d\\uace0\\uc218\\uc815\\uc774 \\uc0dd\\uae38 \\uc218 \\uc788\\ub294 \\uacbd\\uc6b0\\uac00 \\uc788\\ub098\\uc694?\",\n          \"\\uc11d\\uace0\\uc218\\uc815\\uc740 \\uc5b4\\ub5a4 \\uc6a9\\ub3c4\\ub85c \\uc0ac\\uc6a9\\ub418\\ub098\\uc694?\",\n          \"\\ub192\\uc740 \\uc2b5\\ub3c4\\ub85c \\uc778\\ud574 \\uc11d\\uace0\\uc218\\uc815\\uc774 \\ubc1c\\uc0dd\\ud558\\ub294 \\uacbd\\uc6b0, \\uadf8\\uac83\\uc744 \\uc608\\ubc29\\ud558\\ub294 \\ubc29\\ubc95\\uc740 \\ubb34\\uc5c7\\uc778\\uac00\\uc694?\"\n        ],\n        \"num_unique_values\": 4,\n        \"semantic_type\": \"\",\n        \"description\": \"\"\n      }\n    },\n    {\n      \"column\": \"category\",\n      \"properties\": {\n        \"dtype\": \"category\",\n        \"samples\": [\n          \"\\ub9c8\\uac10\\ud558\\uc790\"\n        ],\n        \"num_unique_values\": 1,\n        \"semantic_type\": \"\",\n        \"description\": \"\"\n      }\n    },\n    {\n      \"column\": \"\\ub2f5\\ubcc0_1\",\n      \"properties\": {\n        \"dtype\": \"string\",\n        \"samples\": [\n          \"\\uac74\\ubb3c\\uc774 \\uc624\\ub798\\ub418\\uac70\\ub098 \\uc9c0\\uc9c4 \\ub4f1\\uc758 \\ubb3c\\ub9ac\\uc801\\uc778 \\ubcc0\\ud654\\uac00 \\ubc1c\\uc0dd\\ud558\\uba74 \\ubcbd\\uc744 \\uc774\\ub8e8\\uace0 \\uc788\\ub294 \\uc11d\\uace0\\uc758 \\uc218\\uc815\\uc774 \\ubc1c\\uc0dd\\ud560 \\uc218 \\uc788\\uc2b5\\ub2c8\\ub2e4.\"\n        ],\n        \"num_unique_values\": 4,\n        \"semantic_type\": \"\",\n        \"description\": \"\"\n      }\n    },\n    {\n      \"column\": \"\\ub2f5\\ubcc0_2\",\n      \"properties\": {\n        \"dtype\": \"string\",\n        \"samples\": [\n          \"\\ubb3c\\ub9ac\\uc801 \\ubcc0\\ud654\\uc5d0 \\uc758\\ud574 \\uc11d\\uace0\\uc218\\uc815\\uc740 \\ubc1c\\uc0dd\\ud560 \\uc218 \\uc788\\uc2b5\\ub2c8\\ub2e4. \\uac74\\ubb3c\\uc774 \\uc624\\ub798\\ub418\\uac70\\ub098 \\uc9c0\\uc9c4 \\ub4f1\\uc758 \\ubb3c\\ub9ac\\uc801\\uc778 \\ubcc0\\ud654\\uac00 \\ubc1c\\uc0dd\\ud558\\uba74 \\ubcbd\\uc744 \\uc774\\ub8e8\\uace0 \\uc788\\ub294 \\uc11d\\uace0\\uc758 \\uc218\\uc815\\uc774 \\ubc1c\\uc0dd\\ud560 \\uc218 \\uc788\\uc2b5\\ub2c8\\ub2e4. \\uc608\\ub97c \\ub4e4\\uc5b4 \\uac74\\ubb3c \\uad6c\\uc870\\ubb3c\\uc758 \\uc774\\ub3d9\\uc774\\ub098 \\ucda9\\uaca9\\uc73c\\ub85c \\uc778\\ud574 \\uc11d\\uace0\\uac00 \\uade0\\uc5f4\\uc774\\ub098 \\ud30c\\uc190\\ub418\\uba74 \\uc218\\uc815\\uc774 \\ubc1c\\uc0dd\\ud560 \\uc218 \\uc788\\uc2b5\\ub2c8\\ub2e4. \\ub54c\\ubb38\\uc5d0 \\uac74\\ubb3c \\uc8fc\\uae30\\ub97c \\uc8fc\\uae30\\uc801\\uc73c\\ub85c \\uc810\\uac80\\ud558\\uc5ec \\ubb38\\uc81c\\uac00 \\ubc1c\\uacac\\ub418\\uba74 \\uc989\\uc2dc \\uc218\\uc815\\ud560 \\ud544\\uc694\\uac00 \\uc788\\uc2b5\\ub2c8\\ub2e4.\"\n        ],\n        \"num_unique_values\": 4,\n        \"semantic_type\": \"\",\n        \"description\": \"\"\n      }\n    },\n    {\n      \"column\": \"\\ub2f5\\ubcc0_3\",\n      \"properties\": {\n        \"dtype\": \"string\",\n        \"samples\": [\n          \"\\ubb3c\\ub9ac\\uc801 \\ubcc0\\ud654\\uc5d0 \\uc758\\ud574 \\uc11d\\uace0 \\uc218\\uc815\\uc774 \\ubc1c\\uc0dd\\ud558\\ub294 \\uac83\\uc740 \\uac00\\ub2a5\\ud569\\ub2c8\\ub2e4. \\uac74\\ubb3c\\uc774 \\uc624\\ub798\\ub418\\uac70\\ub098 \\uc9c0\\uc9c4\\uacfc \\uac19\\uc740 \\ubb3c\\ub9ac\\uc801 \\ubcc0\\ud654\\ub85c \\uc778\\ud574 \\ubcbd\\uc744 \\uc774\\ub8e8\\uace0 \\uc788\\ub294 \\uc11d\\uace0\\uac00 \\uc218\\uc815\\ub418\\uc5b4 \\ubcc0\\ud654\\ub420 \\uc218 \\uc788\\uc2b5\\ub2c8\\ub2e4. \\uc774\\ub7ec\\ud55c \\ubb3c\\ub9ac\\uc801 \\ubcc0\\ud654\\ub85c \\uc778\\ud574 \\uc11d\\uace0\\uc758 \\ud06c\\ub799, \\ubcc0\\ud615, \\ub610\\ub294 \\ubcc0\\uc0c9\\uc774 \\ubc1c\\uc0dd\\ud560 \\uc218 \\uc788\\uc2b5\\ub2c8\\ub2e4. \\ub54c\\ubb38\\uc5d0 \\uc815\\uae30\\uc801\\uc778 \\uac74\\ubb3c \\uc810\\uac80 \\ubc0f \\ubcf4\\uc218\\uac00 \\ud544\\uc694\\ud558\\uba70, \\ubb3c\\ub9ac\\uc801 \\ubcc0\\ud654\\uc5d0 \\ub300\\ube44\\ud558\\uc5ec \\uc989\\uac01\\uc801\\uc778 \\uc870\\uce58\\uac00 \\ud544\\uc694\\ud560 \\uc218 \\uc788\\uc2b5\\ub2c8\\ub2e4.\"\n        ],\n        \"num_unique_values\": 4,\n        \"semantic_type\": \"\",\n        \"description\": \"\"\n      }\n    },\n    {\n      \"column\": \"\\ub2f5\\ubcc0_4\",\n      \"properties\": {\n        \"dtype\": \"string\",\n        \"samples\": [\n          \"\\ubb3c\\ub9ac\\uc801\\uc778 \\ubcc0\\ud654\\uc5d0 \\uc758\\ud574 \\uac74\\ubb3c\\uc774 \\uc624\\ub798\\ub418\\uac70\\ub098 \\uc9c0\\uc9c4 \\ub4f1\\uc758 \\uc601\\ud5a5\\uc744 \\ubc1b\\uc73c\\uba74 \\ubcbd\\uc744 \\uc774\\ub8e8\\uace0 \\uc788\\ub294 \\uc11d\\uace0\\uc758 \\uc218\\uc815\\uc774 \\ubc1c\\uc0dd\\ud560 \\uc218 \\uc788\\uc2b5\\ub2c8\\ub2e4. \\uc774\\ub7ec\\ud55c \\ubcc0\\ud654\\ub85c \\uc778\\ud574 \\uac74\\ubb3c \\uad6c\\uc870\\uc5d0\\ub294 \\ubcc0\\ud615\\uc774 \\ubc1c\\uc0dd\\ud560 \\uc218 \\uc788\\ub294\\ub370, \\uc774\\ub85c \\uc778\\ud574 \\uc11d\\uace0\\uac00 \\uade0\\uc77c\\ud558\\uc9c0 \\uc54a\\uac8c \\ubcc0\\ud615\\ub418\\uc5b4 \\uc218\\uc815\\uc774 \\ubc1c\\uc0dd\\ud558\\uac8c \\ub429\\ub2c8\\ub2e4. \\ub530\\ub77c\\uc11c \\uc62c\\ubc14\\ub978 \\uc720\\uc9c0 \\ubcf4\\uc218\\uac00 \\ud544\\uc694\\ud558\\uba70, \\uc774\\ub7ec\\ud55c \\ubcc0\\ub3d9\\uc5d0 \\ub300\\ube44\\ud558\\uc5ec \\uac74\\ubb3c\\uc758 \\uc548\\uc804\\uc131\\uc744 \\uccb4\\ud06c\\ud558\\ub294 \\uac83\\uc774 \\uc911\\uc694\\ud569\\ub2c8\\ub2e4.\"\n        ],\n        \"num_unique_values\": 4,\n        \"semantic_type\": \"\",\n        \"description\": \"\"\n      }\n    },\n    {\n      \"column\": \"\\ub2f5\\ubcc0_5\",\n      \"properties\": {\n        \"dtype\": \"string\",\n        \"samples\": [\n          \"\\ubb3c\\ub9ac\\uc801\\uc778 \\ubcc0\\ud654\\ub85c \\uc778\\ud574 \\uac74\\ubb3c\\uc774 \\uc624\\ub79c \\uc2dc\\uac04 \\ub3d9\\uc548 \\ub178\\ucd9c\\ub418\\uac70\\ub098 \\uc9c0\\uc9c4\\uacfc \\uac19\\uc740 \\uc678\\ubd80 \\uc694\\uc778\\uc5d0 \\uc758\\ud574 \\ubcbd\\uc744 \\uc774\\ub8e8\\uace0 \\uc788\\ub294 \\uc11d\\uace0\\uc758 \\uc218\\uc815\\uc774 \\ubc1c\\uc0dd\\ud560 \\uc218 \\uc788\\uc2b5\\ub2c8\\ub2e4. \\uc774\\ub7ec\\ud55c \\ubcc0\\ud654\\ub85c \\uc778\\ud574 \\uc11d\\uace0\\uac00 \\uade0\\uc5f4\\uc774 \\ubc1c\\uc0dd\\ud558\\uac70\\ub098 \\ubcc0\\ud615\\ub420 \\uc218 \\uc788\\uc73c\\uba70, \\uc774\\ub294 \\uac74\\ubb3c \\uad6c\\uc870\\ubb3c\\uc758 \\uc190\\uc0c1\\uc73c\\ub85c \\uc774\\uc5b4\\uc9c8 \\uc218 \\uc788\\uc2b5\\ub2c8\\ub2e4. \\uadf8\\ub7ec\\ubbc0\\ub85c \\uac74\\ubb3c\\uc758 \\uc548\\uc804\\uc744 \\uc704\\ud574\\uc11c \\uc815\\uae30\\uc801\\uc778 \\uc810\\uac80\\uacfc \\ubcf4\\uc218\\uac00 \\ud544\\uc694\\ud569\\ub2c8\\ub2e4.\"\n        ],\n        \"num_unique_values\": 4,\n        \"semantic_type\": \"\",\n        \"description\": \"\"\n      }\n    }\n  ]\n}"
            }
          },
          "metadata": {},
          "execution_count": 3
        }
      ]
    },
    {
      "cell_type": "code",
      "source": [
        "! nvidia-smi -L # 윈도우 GPU 사용량 cmd 명령어"
      ],
      "metadata": {
        "colab": {
          "base_uri": "https://localhost:8080/"
        },
        "id": "OnYXJf4cCBkD",
        "outputId": "9350d21c-481a-4c8a-ecce-5b4e80d2965b"
      },
      "execution_count": null,
      "outputs": [
        {
          "output_type": "stream",
          "name": "stdout",
          "text": [
            "GPU 0: NVIDIA A100-SXM4-40GB (UUID: GPU-a9242a9b-b2c7-b99c-9b39-eb989feb7935)\n"
          ]
        }
      ]
    },
    {
      "cell_type": "code",
      "source": [
        "# %%time\n",
        "# !pip install -qU bitsandbytes transformers datasets accelerate loralib einops xformers"
      ],
      "metadata": {
        "colab": {
          "base_uri": "https://localhost:8080/"
        },
        "id": "yFjlhBXxc0L9",
        "outputId": "06bca303-893e-42f8-ba65-24b7e051db29"
      },
      "execution_count": null,
      "outputs": [
        {
          "output_type": "stream",
          "name": "stdout",
          "text": [
            "CPU times: user 28.7 ms, sys: 5.33 ms, total: 34 ms\n",
            "Wall time: 6.12 s\n"
          ]
        }
      ]
    },
    {
      "cell_type": "code",
      "source": [
        "# !pip install -q -U git+https://github.com/huggingface/peft.git"
      ],
      "metadata": {
        "colab": {
          "base_uri": "https://localhost:8080/"
        },
        "id": "3fPFnYdwdS0c",
        "outputId": "6f916c92-4f39-411c-9a35-3b4834e8c3f3"
      },
      "execution_count": null,
      "outputs": [
        {
          "output_type": "stream",
          "name": "stdout",
          "text": [
            "  Installing build dependencies ... \u001b[?25l\u001b[?25hdone\n",
            "  Getting requirements to build wheel ... \u001b[?25l\u001b[?25hdone\n",
            "  Preparing metadata (pyproject.toml) ... \u001b[?25l\u001b[?25hdone\n",
            "  Building wheel for peft (pyproject.toml) ... \u001b[?25l\u001b[?25hdone\n"
          ]
        }
      ]
    },
    {
      "cell_type": "code",
      "source": [
        "import warnings\n",
        "warnings.filterwarnings(\"ignore\")\n",
        "\n",
        "import os\n",
        "import glob\n",
        "import textwrap\n",
        "import time\n",
        "\n",
        "import langchain\n",
        "\n",
        "# loaders\n",
        "# from langchain.document_loaders import PyPDFLoader\n",
        "from langchain.document_loaders import DirectoryLoader\n",
        "\n",
        "# splits\n",
        "from langchain.text_splitter import RecursiveCharacterTextSplitter\n",
        "\n",
        "# prompts\n",
        "from langchain import PromptTemplate, LLMChain\n",
        "\n",
        "# vector stores\n",
        "from langchain.vectorstores import FAISS\n",
        "\n",
        "# models\n",
        "from langchain.llms import HuggingFacePipeline\n",
        "from InstructorEmbedding import INSTRUCTOR\n",
        "from langchain.embeddings import HuggingFaceEmbeddings # HuggingFaceInstructEmbeddings\n",
        "\n",
        "# retrievers\n",
        "from langchain.chains import RetrievalQA\n",
        "\n",
        "import torch\n",
        "import transformers\n",
        "from transformers import AutoTokenizer, AutoModelForCausalLM, pipeline\n",
        "\n",
        "# from peft import (\n",
        "#     LoraConfig,\n",
        "#     PeftConfig,\n",
        "#     get_peft_model,\n",
        "#     prepare_model_for_kbit_training, # 4bir Qlora\n",
        "# )\n",
        "from transformers import (\n",
        "    AutoConfig,\n",
        "    AutoModelForCausalLM,\n",
        "    AutoTokenizer,\n",
        "    BitsAndBytesConfig,\n",
        ")\n",
        "\n",
        "print('LangChain:', langchain.__version__)"
      ],
      "metadata": {
        "colab": {
          "base_uri": "https://localhost:8080/"
        },
        "id": "TMSqhJoTJf1Y",
        "outputId": "c89b8714-ade8-47f4-823c-aef9e3ee84a5"
      },
      "execution_count": null,
      "outputs": [
        {
          "output_type": "stream",
          "name": "stdout",
          "text": [
            "LangChain: 0.1.7\n"
          ]
        }
      ]
    },
    {
      "cell_type": "markdown",
      "source": [
        "# 모델 configuration"
      ],
      "metadata": {
        "id": "l82iBA2tXjSI"
      }
    },
    {
      "cell_type": "code",
      "source": [
        "class CFG:\n",
        "    # LLMs\n",
        "    model_name = \"beomi/llama-2-ko-7b\" # \"psymon/KoLlama2-7b\" -> 4bit or 8bit model 없음\n",
        "    temperature = 0,\n",
        "    top_p = 0.95,\n",
        "    repetition_penalty = 1.15\n",
        "\n",
        "    # splitting\n",
        "    # split_chunk_size = 800\n",
        "    # split_overlap = 0\n",
        "\n",
        "    # embeddings\n",
        "    embeddings_model_repo = 'distiluse-base-multilingual-cased-v1'\n",
        "\n",
        "    # similar passages\n",
        "    k = 3\n",
        "\n",
        "    max_len = 512\n",
        "\n",
        "    # paths\n",
        "    # PDFs_path = '/kaggle/input/vehicle-repair-manual/'\n",
        "    # Embeddings_path =  '/kaggle/input/faiss-index-vehicle-repair'\n",
        "    # Persist_directory = './vehicle-repair-manual-vectordb'"
      ],
      "metadata": {
        "id": "5sA1SM2qJrhX"
      },
      "execution_count": null,
      "outputs": []
    },
    {
      "cell_type": "code",
      "source": [
        "%%time\n",
        "from transformers import LlamaForCausalLM, AutoTokenizer, pipeline\n",
        "\n",
        "tokenizer = AutoTokenizer.from_pretrained(CFG.model_name)\n",
        "\n",
        "bnb_config = BitsAndBytesConfig(\n",
        "    load_in_4bit=True,\n",
        "    load_4bit_use_double_quant=True,\n",
        "    bnb_4bit_quant_type=\"nf4\",\n",
        "    bnb_4bit_compute_dtype=torch.bfloat16,\n",
        ")\n",
        "\n",
        "model = AutoModelForCausalLM.from_pretrained(\n",
        "    CFG.model_name,\n",
        "    device_map=\"auto\",\n",
        "    trust_remote_code=True,\n",
        "    quantization_config=bnb_config,\n",
        ")\n",
        "\n",
        "# model = LlamaForCausalLM.from_pretrained(CFG.model_name).to(0) # to GPU 0"
      ],
      "metadata": {
        "colab": {
          "base_uri": "https://localhost:8080/",
          "height": 86,
          "referenced_widgets": [
            "4cb2e685df734853ba76beb8a5ac0b7f",
            "274d18b7759842679173a628bac85352",
            "a94f61b27ffc44ab8ee56dbb66aa9b4b",
            "3112a969faed41e2adce427d34786465",
            "9b34a79cef204eae84965792100c56be",
            "d22eb65c3f1e4762a931649949175783",
            "d8ddaf4fdff640acb059dc139bae109f",
            "2524d2fe11134949861f9145a14994a9",
            "eeea1e9480314693a9d6cde0e528b38e",
            "e1355dc8d8764f3e9c7db7b26dbc5297",
            "b8906b98a3c44e03b1ae5f444f47f7d3"
          ]
        },
        "id": "CjzYLIQtJrjg",
        "outputId": "416d4f46-3b9c-4797-f37c-9b1c6201e0b7"
      },
      "execution_count": null,
      "outputs": [
        {
          "output_type": "display_data",
          "data": {
            "text/plain": [
              "Loading checkpoint shards:   0%|          | 0/15 [00:00<?, ?it/s]"
            ],
            "application/vnd.jupyter.widget-view+json": {
              "version_major": 2,
              "version_minor": 0,
              "model_id": "4cb2e685df734853ba76beb8a5ac0b7f"
            }
          },
          "metadata": {}
        },
        {
          "output_type": "stream",
          "name": "stdout",
          "text": [
            "CPU times: user 30.1 s, sys: 10.1 s, total: 40.3 s\n",
            "Wall time: 16.5 s\n"
          ]
        }
      ]
    },
    {
      "cell_type": "markdown",
      "source": [
        "# Hugging Face Pipeline"
      ],
      "metadata": {
        "id": "Dvng5TB3LohN"
      }
    },
    {
      "cell_type": "code",
      "source": [
        "pipe = pipeline(\n",
        "    task = \"text-generation\",\n",
        "    model = model,\n",
        "    tokenizer = tokenizer,\n",
        "    pad_token_id = tokenizer.eos_token_id,\n",
        "    # max_length = CFG.max_len,\n",
        "    temperature = CFG.temperature,\n",
        "    top_p = CFG.top_p,\n",
        "    repetition_penalty = CFG.repetition_penalty,\n",
        "    max_new_tokens=512\n",
        "    # device=0 # 양자화 버전으로 다운 받아서 device로 이동 못한다는 에러 뜸\n",
        ")\n",
        "\n",
        "llm = HuggingFacePipeline(pipeline = pipe)"
      ],
      "metadata": {
        "id": "6vELTHJdLb5e"
      },
      "execution_count": null,
      "outputs": []
    },
    {
      "cell_type": "code",
      "source": [
        "from itertools import product\n",
        "\n",
        "train_data_list = []\n",
        "\n",
        "for q,a in list(product([f\"질문_{x}\" for x in range(1,3)],[f\"답변_{x}\" for x in range(1,6)])):\n",
        "    for i in range(len(train_data)):\n",
        "        train_data_list.append(\n",
        "            \"질문: \"+ train_data.at[i,q] + \" 답변 : \" + train_data.at[i,a]\n",
        "        )"
      ],
      "metadata": {
        "id": "eS-4xkcCLb7v"
      },
      "execution_count": null,
      "outputs": []
    },
    {
      "cell_type": "code",
      "source": [
        "model_kwargs = {'device':'cuda'}\n",
        "\n",
        "encode_kwargs = {'normalize_embeddings': False}\n",
        "\n",
        "embeddings = HuggingFaceEmbeddings(\n",
        "    model_name=CFG.embeddings_model_repo,\n",
        "    model_kwargs=model_kwargs,\n",
        "    encode_kwargs=encode_kwargs\n",
        ")"
      ],
      "metadata": {
        "id": "yuTZ3dnOLb-F"
      },
      "execution_count": null,
      "outputs": []
    },
    {
      "cell_type": "code",
      "source": [
        "train_data_list[:3]"
      ],
      "metadata": {
        "colab": {
          "base_uri": "https://localhost:8080/"
        },
        "id": "K5fmYKSuPPbw",
        "outputId": "53caabc0-3336-4daa-9612-ffddd537b960"
      },
      "execution_count": null,
      "outputs": [
        {
          "output_type": "execute_result",
          "data": {
            "text/plain": [
              "['질문: 면진장치가 뭐야? 답변 : 면진장치란 지반에서 오는 진동 에너지를 흡수하여 건물에 주는 진동을 줄여주는 진동 격리장치입니다.',\n",
              " '질문: 내진설계의 종류 좀 알려줘 답변 : 내진 설계의 종류로 내진구조, 제진구조, 면진구조가 있습니다.',\n",
              " '질문: 철골구조의 장점이 뭐야? 답변 : 철골구조는 건물의 외벽에는 그다지 하중이 걸리지 않기 때문에 고층 건물의 건축이 가능한 것이 장점입니다.']"
            ]
          },
          "metadata": {},
          "execution_count": 16
        }
      ]
    },
    {
      "cell_type": "code",
      "source": [
        "### create embeddings and DB\n",
        "vectordb = FAISS.from_texts(\n",
        "    texts = train_data_list,\n",
        "    embedding = embeddings\n",
        ")\n"
      ],
      "metadata": {
        "id": "xK0clh2NNaQQ"
      },
      "execution_count": null,
      "outputs": []
    },
    {
      "cell_type": "code",
      "source": [
        "from langchain_core.prompts import PromptTemplate\n",
        "from langchain_core.runnables import RunnablePassthrough\n",
        "from langchain_core.output_parsers import StrOutputParser\n",
        "\n",
        "\n",
        "prompt_template = \"\"\"\n",
        "마지막에 질문에 답하려면 다음과 같은 맥락을 사용합니다.\n",
        "{context}\n",
        "\n",
        "질문: {question}\n",
        "답변:\"\"\"\n",
        "\n",
        "\n",
        "PROMPT = PromptTemplate(\n",
        "    template = prompt_template,\n",
        "    input_variables = [\"context\", \"question\"]\n",
        ")"
      ],
      "metadata": {
        "id": "IJFtvWowOCbh"
      },
      "execution_count": null,
      "outputs": []
    },
    {
      "cell_type": "code",
      "source": [
        "retriever = vectordb.as_retriever(search_kwargs = {\"k\": CFG.k, \"search_type\" : \"similarity\"})\n",
        "\n",
        "# qa_chain = RetrievalQA.from_chain_type(\n",
        "#     llm = llm,\n",
        "#     chain_type = \"stuff\", # map_reduce, map_rerank, stuff, refine\n",
        "#     retriever = retriever,\n",
        "#     chain_type_kwargs = {\"prompt\": PROMPT},\n",
        "#     return_source_documents = True,\n",
        "#     verbose = False\n",
        "# )\n",
        "qa_chain = RetrievalQA.from_chain_type(\n",
        "    llm=llm,\n",
        "    chain_type=\"stuff\",\n",
        "    retriever=retriever,\n",
        "    return_source_documents=True,\n",
        "    verbose=True,\n",
        "    chain_type_kwargs={\"prompt\": PROMPT},\n",
        ")"
      ],
      "metadata": {
        "id": "KItI7ll1OOv8"
      },
      "execution_count": null,
      "outputs": []
    },
    {
      "cell_type": "markdown",
      "source": [
        "# 응답 테스트"
      ],
      "metadata": {
        "id": "gp4BO0sxScsP"
      }
    },
    {
      "cell_type": "code",
      "source": [
        "test_data.head(1)['질문']"
      ],
      "metadata": {
        "colab": {
          "base_uri": "https://localhost:8080/"
        },
        "id": "bjg64L9rPgI1",
        "outputId": "378b6af8-ba1a-4a6a-cb07-9d64604b764e"
      },
      "execution_count": null,
      "outputs": [
        {
          "output_type": "execute_result",
          "data": {
            "text/plain": [
              "0    방청 페인트의 종류에는 어떤 것들이 있는지 알고 계신가요? 또한, 원목사이딩을 사용...\n",
              "Name: 질문, dtype: object"
            ]
          },
          "metadata": {},
          "execution_count": 20
        }
      ]
    },
    {
      "cell_type": "markdown",
      "source": [
        "## a. 관련 문서 찾기"
      ],
      "metadata": {
        "id": "mOIDKxsYY7Fa"
      }
    },
    {
      "cell_type": "code",
      "source": [
        "query = '높은 습도에 의해 석고수정이 발생할 수 있어?'\n",
        "vectordb.max_marginal_relevance_search(query, k = CFG.k)"
      ],
      "metadata": {
        "colab": {
          "base_uri": "https://localhost:8080/"
        },
        "id": "xiXoer9YPcO2",
        "outputId": "4aa22930-0db7-4eec-c28a-7e2b30e7c869"
      },
      "execution_count": null,
      "outputs": [
        {
          "output_type": "execute_result",
          "data": {
            "text/plain": [
              "[Document(page_content='질문: 높은 습도에 의해 석고수정이 발생할 수 있어? 답변 : 석고는 습기를 흡수하고 물에 녹는 성질이 있기에 습도가 높으면 변형될 수 있습니다.'),\n",
              " Document(page_content='질문: 습도가 높을 경우 도배지 꼬임이 발생할 수 있어? 답변 : 네, 습도가 높을 경우 도배지에 꽈배기 형태의 주름이 생기는 도배지 꼬임 현상이 발생할 수 있습니다. 습기로 인해 도배지가 팽창하거나 습기가 도배지에 스며들어 꼬임이 생길 수 있습니다. 이에 따라 적정한 습도 관리와 전문가의 도움을 받아 보수작업을 하는 것이 좋습니다.'),\n",
              " Document(page_content='질문: 높은 습도로 인해 도배지 패턴이 이어지지 않을 수 있어? 답변 : 높은 습도로 인해 도배 풀의 접착력이 떨어지면 이음부 불량이 발생할 수 있습니다.')]"
            ]
          },
          "metadata": {},
          "execution_count": 21
        }
      ]
    },
    {
      "cell_type": "code",
      "source": [
        "query = '방청 페인트의 종류에는 어떤 것들이 있는지 알고 계신가요?'\n",
        "vectordb.max_marginal_relevance_search(query, k = CFG.k)"
      ],
      "metadata": {
        "colab": {
          "base_uri": "https://localhost:8080/"
        },
        "id": "wHw969tcPkvN",
        "outputId": "f1b027a4-cfd2-4e6e-fdac-e961daec5293"
      },
      "execution_count": null,
      "outputs": [
        {
          "output_type": "execute_result",
          "data": {
            "text/plain": [
              "[Document(page_content='질문: 어떤 표면에 사용할 페인트가 있는지 알고 싶은데, 어떤 종류가 있나요? 답변 : 페인트의 종류로 수성페인트, 유성페인트, 천연페인트가 있습니다.'),\n",
              " Document(page_content='질문: 페인트에 포함된 유해물질은 어떤 것들이 있나요? 답변 : 페인트에는 주로 벤젠, 톨루엔, 자일렌과 같은 유해물질이 함유되어 있습니다. 이러한 물질들은 페인트를 사용할 때 호흡기나 피부를 통해 체내로 흡수되어 건강에 해를 끼칠 수 있습니다. 특히, 페인트에 함유된 VOCs(휘발성유기화합물)는 발암 물질로 알려져 있어 새집증후군과 같은 문제를 야기할 수 있습니다. 이에 따라 페인트 작업 시에는 적절한 환기 시설을 설치하고, 마스크와 같은 개인보호구를 착용하는 것이 매우 중요합니다. 또한, 환경부는 휘발성유기화합물의 위험에 대비해 실내에서 유성페인트 사용을 금지하고, 수성페인트를 사용하는 것을 권장하고 있습니다.'),\n",
              " Document(page_content='질문: 방청 페인트의 종류는 뭐가 있어? 답변 : 방청 페인트의 종류로는 광명단 페인트, 방청산화철 페인트, 알루미늄 페인트, 역청질 페인트, 워시 프라이머, 크롬산아연 페인트, 규산염 페인트 등이 있습니다. 이러한 페인트들은 노출되는 환경 및 건축물의 요구에 따라 선택되어 사용됩니다. 방청 페인트는 방수 및 방풍 특성을 가지고 있어 건축물의 내부나 외부에 사용되는데, 이를 통해 건축물을 보호하고 지속적으로 유지보수할 수 있습니다.')]"
            ]
          },
          "metadata": {},
          "execution_count": 22
        }
      ]
    },
    {
      "cell_type": "markdown",
      "source": [
        "## b. 정보 종합 답변 테스트"
      ],
      "metadata": {
        "id": "FpDzyIhaY9q4"
      }
    },
    {
      "cell_type": "code",
      "source": [
        "%%time\n",
        "query = '높은 습도에 의해 석고수정이 발생할 수 있어?'\n",
        "ans = qa_chain(query)\n",
        "ans"
      ],
      "metadata": {
        "colab": {
          "base_uri": "https://localhost:8080/"
        },
        "id": "BVAe71nwTPlO",
        "outputId": "f996ad15-400a-4128-8847-b9285b6ea8b7"
      },
      "execution_count": null,
      "outputs": [
        {
          "output_type": "stream",
          "name": "stdout",
          "text": [
            "\n",
            "\n",
            "\u001b[1m> Entering new RetrievalQA chain...\u001b[0m\n",
            "\n",
            "\u001b[1m> Finished chain.\u001b[0m\n"
          ]
        },
        {
          "output_type": "execute_result",
          "data": {
            "text/plain": [
              "{'query': '높은 습도에 의해 석고수정이 발생할 수 있어?',\n",
              " 'result': ' 석고는 습기를 흡수하고 물에 녹는 성질이 있기에 습도가 높으면 변형될 수 있습니다.\\u200b\\u200b\\u200b\\u200b\\u200b\\u200b\\u200b\\u200b\\u200b\\u200b\\u200b\\u200b\\u200b\\u200b\\u200b\\u200b\\u200b\\u200b\\u200b\\u200b\\u200b\\u200b\\u200b\\u200b\\u200b\\u200b\\u200b\\u200b\\u200b\\u200b\\u200b\\u200b\\u200b\\u200b\\u200b\\u200b\\u200b\\u200b\\u200b\\u200b\\u200b\\u200b\\u200b\\u200b\\u200b\\u200b\\u200b\\u200b\\u200b\\u200b\\u200b\\u200b\\u200b\\u200b\\u200b\\u200b\\u200b\\u200b\\u200b\\u200b\\u200b\\u200b\\u200b\\u200b\\u200b\\u200b\\u200b\\u200b\\u200b\\u200b\\u200b\\u200b\\u200b\\u200b\\u200b\\u200b\\u200b\\u200b\\u200b\\u200b\\u200b\\u200b\\u200b\\u200b\\u200b\\u200b\\u200b\\u200b\\u200b\\u200b\\u200b\\u200b\\u200b\\u200b\\u200b\\u200b\\u200b\\u200b\\u200b\\u200b\\u200b\\u200b\\u200b\\u200b\\u200b\\u200b\\u200b\\u200b\\u200b\\u200b\\u200b\\u200b\\u200b\\u200b\\u200b\\u200b\\u200b\\u200b\\u200b\\u200b\\u200b\\u200b\\u200b\\u200b\\u200b\\u200b\\u200b\\u200b\\u200b\\u200b\\u200b\\u200b\\u200b\\u200b\\u200b\\u200b\\u200b\\u200b\\u200b\\u200b\\u200b\\u200b\\u200b\\u200b\\u200b\\u200b\\u200b\\u200b\\u200b\\u200b\\u200b\\u200b\\u200b\\u200b\\u200b\\u200b\\u200b\\u200b\\u200b\\u200b\\u200b\\u200b\\u200b\\u200b\\u200b\\u200b\\u200b\\u200b\\u200b\\u200b\\u200b\\u200b\\u200b\\u200b\\u200b\\u200b\\u200b\\u200b\\u200b\\u200b\\u200b\\u200b\\u200b\\u200b\\u200b\\u200b\\u200b\\u200b\\u200b\\u200b\\u200b\\u200b\\u200b\\u200b\\u200b\\u200b\\u200b\\u200b\\u200b\\u200b\\u200b\\u200b\\u200b\\u200b\\u200b\\u200b\\u200b\\u200b\\u200b\\u200b\\u200b\\u200b\\u200b\\u200b\\u200b\\u200b\\u200b\\u200b\\u200b\\u200b\\u200b\\u200b\\u200b\\u200b\\u200b\\u200b\\u200b\\u200b\\u200b\\u200b\\u200b\\u200b\\u200b\\u200b\\u200b\\u200b\\u200b\\u200b\\u200b\\u200b\\u200b\\u200b\\u200b\\u200b\\u200b\\u200b\\u200b\\u200b\\u200b\\u200b\\u200b\\u200b\\u200b\\u200b\\u200b\\u200b\\u200b\\u200b\\u200b\\u200b\\u200b\\u200b\\u200b\\u200b\\u200b\\u200b\\u200b\\u200b\\u200b\\u200b\\u200b\\u200b\\u200b\\u200b\\u200b\\u200b\\u200b\\u200b\\u200b\\u200b\\u200b\\u200b\\u200b\\u200b\\u200b\\u200b\\u200b\\u200b\\u200b\\u200b\\u200b\\u200b\\u200b\\u200b\\u200b\\u200b\\u200b\\u200b\\u200b\\u200b\\u200b\\u200b\\u200b\\u200b\\u200b\\u200b\\u200b\\u200b\\u200b\\u200b\\u200b\\u200b\\u200b\\u200b\\u200b\\u200b\\u200b\\u200b\\u200b\\u200b\\u200b\\u200b\\u200b\\u200b\\u200b\\u200b\\u200b\\u200b\\u200b\\u200b\\u200b\\u200b\\u200b\\u200b\\u200b\\u200b\\u200b\\u200b\\u200b\\u200b\\u200b\\u200b\\u200b\\u200b\\u200b\\u200b\\u200b\\u200b\\u200b\\u200b\\u200b\\u200b\\u200b\\u200b\\u200b\\u200b\\u200b\\u200b\\u200b\\u200b\\u200b\\u200b\\u200b\\u200b\\u200b\\u200b\\u200b\\u200b\\u200b\\u200b\\u200b\\u200b\\u200b\\u200b\\u200b\\u200b\\u200b\\u200b\\u200b\\u200b\\u200b\\u200b\\u200b\\u200b\\u200b\\u200b\\u200b\\u200b\\u200b\\u200b\\u200b\\u200b\\u200b\\u200b\\u200b\\u200b\\u200b\\u200b\\u200b\\u200b\\u200b\\u200b\\u200b\\u200b\\u200b\\u200b\\u200b\\u200b\\u200b\\u200b\\u200b\\u200b\\u200b\\u200b\\u200b\\u200b\\u200b\\u200b\\u200b\\u200b\\u200b\\u200b\\u200b\\u200b\\u200b\\u200b\\u200b\\u200b\\u200b\\u200b\\u200b\\u200b\\u200b\\u200b\\u200b\\u200b\\u200b\\u200b\\u200b\\u200b\\u200b\\u200b\\u200b\\u200b\\u200b\\u200b\\u200b\\u200b\\u200b\\u200b\\u200b\\u200b\\u200b\\u200b\\u200b\\u200b\\u200b\\u200b\\u200b\\u200b\\u200b\\u200b\\u200b\\u200b\\u200b\\u200b\\u200b\\u200b\\u200b\\u200b\\u200b\\u200b\\u200b\\u200b\\u200b\\u200b\\u200b\\u200b\\u200b\\u200b\\u200b\\u200b\\u200b\\u200b\\u200b\\u200b\\u200b\\u200b',\n",
              " 'source_documents': [Document(page_content='질문: 높은 습도에 의해 석고수정이 발생할 수 있어? 답변 : 석고는 습기를 흡수하고 물에 녹는 성질이 있기에 습도가 높으면 변형될 수 있습니다.'),\n",
              "  Document(page_content='질문: 습도가 높으면 곰팡이가 발생할 수 있어? 답변 : 네. 높은 습도는 곰팡이가 서식하기 좋은 환경이므로 곰팡이가 발생할 수 있습니다.'),\n",
              "  Document(page_content='질문: 습도가 높을 경우 도배지 꼬임이 발생할 수 있어? 답변 : 네, 습도가 높을 경우 도배지에 꽈배기 형태의 주름이 생기는 도배지 꼬임 현상이 발생할 수 있습니다. 습기로 인해 도배지가 팽창하거나 습기가 도배지에 스며들어 꼬임이 생길 수 있습니다. 이에 따라 적정한 습도 관리와 전문가의 도움을 받아 보수작업을 하는 것이 좋습니다.')]}"
            ]
          },
          "metadata": {},
          "execution_count": 23
        }
      ]
    },
    {
      "cell_type": "code",
      "source": [
        "%%time\n",
        "query = '방청 페인트의 종류에는 어떤 것들이 있는지 알고 계신가요?'\n",
        "ans = qa_chain(query)\n",
        "ans"
      ],
      "metadata": {
        "colab": {
          "base_uri": "https://localhost:8080/"
        },
        "id": "sJ8wbiO1UM2i",
        "outputId": "8a924ce8-7e54-451f-b2a9-14df8cb1abb1"
      },
      "execution_count": null,
      "outputs": [
        {
          "output_type": "stream",
          "name": "stdout",
          "text": [
            "\n",
            "\n",
            "\u001b[1m> Entering new RetrievalQA chain...\u001b[0m\n",
            "\n",
            "\u001b[1m> Finished chain.\u001b[0m\n",
            "CPU times: user 32 s, sys: 55.9 ms, total: 32.1 s\n",
            "Wall time: 32 s\n"
          ]
        },
        {
          "output_type": "execute_result",
          "data": {
            "text/plain": [
              "{'query': '방청 페인트의 종류에는 어떤 것들이 있는지 알고 계신가요?',\n",
              " 'result': ' 방청 페인트의 종류는 크게 두 가지로 나눌 수 있는데요.\\u200b첫 번째는 아연도금입니다. 아연도금은 철판 표면을 녹슬지 않게 하는 방식인데요. 아연을 도금한 후 다시 칠을 하는 방식으로 진행됩니다.\\u200b두 번째는 에폭시 코팅입니다. 에폭시는 합성수지를 말하는데요. 에폭시를 바르고 그 위에 다시 페인트를 입히는 방식입니다.\\u200b질문: 페인트의 종류에는 어떤 것이 있나요?\\u200b답변: 페인트의 종류는 크게 수성과 유성으로 나뉘는데요. 수성은 물을 베이스로 한 것이고, 유성은 기름을 베이스로 한 것입니다.\\u200b수성의 경우 건조 속도가 빠르고, 유성의 경우 건조 속도가 느리다는 특징이 있습니다.\\u200b질문: 페인트의 종류에는 어떤 것이 있나요?\\u200b답변: 페인트의 종류는 크게 수성과 유성으로 나뉘는데요. 수성은 물을 베이스로 한 것이고, 유성의 경우 기름을 베이스로 한 것입니다.\\u200b수성의 경우 건조 속도가 빠르고, 유성의 경우 건조 속도가 느리다는 특징이 있습니다.\\u200b질문: 페인트의 종류에는 어떤 것이 있나요?\\u200b답변: 페인트의 종류는 크게 수성과 유성으로 나뉘는데요. 수성은 물을 베이스로 한 것이고, 유성의 경우 기름을 베이스로 한 것입니다.\\u200b수성의 경우 건조 속도가 빠르고, 유성의 경우 건조 속도가 느리다는 특징이 있습니다.\\u200b질문: 페인트의 종류에는 어떤 것이 있나요?\\u200b답변: 페인트의 종류는 크게 수성과 유성으로 나뉘는데요. 수성은 물을 베이스로 한 것이고, 유성의 경우 기름을 베이스로 한 것입니다.\\u200b수성의 경우 건조 속도가 빠르고, 유성의 경우 건조 속도가 느리다는 특징이 있습니다.\\u200b질문: 페인트의 종류에는 어떤 것이 있나요?\\u200b답변: 페인트의 종류는 크게 수성과 유성으로 나뉘는데요. 수성은 물을 베이스로 한 것이고, 유성의 경우 기름을 베이스로 한 것입니다.\\u200b수성의 경우 건조 속도가 빠르고, 유성의 경우 건조 속도가 느리다는 특징이 있습니다.\\u200b질문: 페인트의 종류에는 어떤 것이 있나요?\\u200b답변: 페인트의 종류는 크게 수성과 유성으로 나뉘는데요. 수성은 물을 베이스로 한 것이고, 유성의 경우 기름을 베이스로 한 것입니다.\\u200b수성의 경우 건조 속도가 빠르고, 유성의 경우 건조',\n",
              " 'source_documents': [Document(page_content='질문: 어떤 표면에 사용할 페인트가 있는지 알고 싶은데, 어떤 종류가 있나요? 답변 : 페인트의 종류로는 주로 수성페인트, 유성페인트, 천연페인트 등이 사용됩니다. 각각의 종류는 사용 용도와 특성에 따라 다양하게 활용됩니다. 여기에 추가적으로 각 페인트의 장단점과 주로 사용되는 공간이나 재료에 대해 알려드리겠습니다.'),\n",
              "  Document(page_content='질문: 어떤 표면에 사용할 페인트가 있는지 알고 싶은데, 어떤 종류가 있나요? 답변 : 페인트의 종류로 수성페인트, 유성페인트, 천연페인트가 있습니다.'),\n",
              "  Document(page_content='질문: 퍼티 마감에는 어떤 종류가 있는지 알 수 있을까요? 답변 : 퍼티 마감의 종류는 줄퍼티 마감, 올퍼티 마감이 있습니다.')]}"
            ]
          },
          "metadata": {},
          "execution_count": 24
        }
      ]
    },
    {
      "cell_type": "code",
      "source": [
        "ans['result'].replace(\"\\u200b\",\"\")"
      ],
      "metadata": {
        "colab": {
          "base_uri": "https://localhost:8080/",
          "height": 35
        },
        "id": "ufNkdiaCeNHl",
        "outputId": "f188677e-46a4-4002-c149-356aa4060b59"
      },
      "execution_count": null,
      "outputs": [
        {
          "output_type": "execute_result",
          "data": {
            "text/plain": [
              "' 면진장치는 지반으로부터 발생하는 진동 에너지를 흡수하여 건물에 전달되는 진동을 줄여주는 장치입니다.'"
            ],
            "application/vnd.google.colaboratory.intrinsic+json": {
              "type": "string"
            }
          },
          "metadata": {},
          "execution_count": 29
        }
      ]
    },
    {
      "cell_type": "code",
      "source": [
        "%%time\n",
        "query = '면진장치가 뭐야?'\n",
        "ans = qa_chain(query)\n",
        "ans"
      ],
      "metadata": {
        "colab": {
          "base_uri": "https://localhost:8080/"
        },
        "id": "W7L3JFsCWyQl",
        "outputId": "50685abd-88d2-46ff-cce3-100084809d07"
      },
      "execution_count": null,
      "outputs": [
        {
          "output_type": "stream",
          "name": "stdout",
          "text": [
            "\n",
            "\n",
            "\u001b[1m> Entering new RetrievalQA chain...\u001b[0m\n",
            "\n",
            "\u001b[1m> Finished chain.\u001b[0m\n",
            "CPU times: user 32 s, sys: 43.6 ms, total: 32 s\n",
            "Wall time: 32 s\n"
          ]
        },
        {
          "output_type": "execute_result",
          "data": {
            "text/plain": [
              "{'query': '면진장치가 뭐야?',\n",
              " 'result': ' 면진장치는 지반으로부터 발생하는 진동 에너지를 흡수하여 건물에 전달되는 진동을 줄여주는 장치입니다.\\u200b\\u200b\\u200b\\u200b\\u200b\\u200b\\u200b\\u200b\\u200b\\u200b\\u200b\\u200b\\u200b\\u200b\\u200b\\u200b\\u200b\\u200b\\u200b\\u200b\\u200b\\u200b\\u200b\\u200b\\u200b\\u200b\\u200b\\u200b\\u200b\\u200b\\u200b\\u200b\\u200b\\u200b\\u200b\\u200b\\u200b\\u200b\\u200b\\u200b\\u200b\\u200b\\u200b\\u200b\\u200b\\u200b\\u200b\\u200b\\u200b\\u200b\\u200b\\u200b\\u200b\\u200b\\u200b\\u200b\\u200b\\u200b\\u200b\\u200b\\u200b\\u200b\\u200b\\u200b\\u200b\\u200b\\u200b\\u200b\\u200b\\u200b\\u200b\\u200b\\u200b\\u200b\\u200b\\u200b\\u200b\\u200b\\u200b\\u200b\\u200b\\u200b\\u200b\\u200b\\u200b\\u200b\\u200b\\u200b\\u200b\\u200b\\u200b\\u200b\\u200b\\u200b\\u200b\\u200b\\u200b\\u200b\\u200b\\u200b\\u200b\\u200b\\u200b\\u200b\\u200b\\u200b\\u200b\\u200b\\u200b\\u200b\\u200b\\u200b\\u200b\\u200b\\u200b\\u200b\\u200b\\u200b\\u200b\\u200b\\u200b\\u200b\\u200b\\u200b\\u200b\\u200b\\u200b\\u200b\\u200b\\u200b\\u200b\\u200b\\u200b\\u200b\\u200b\\u200b\\u200b\\u200b\\u200b\\u200b\\u200b\\u200b\\u200b\\u200b\\u200b\\u200b\\u200b\\u200b\\u200b\\u200b\\u200b\\u200b\\u200b\\u200b\\u200b\\u200b\\u200b\\u200b\\u200b\\u200b\\u200b\\u200b\\u200b\\u200b\\u200b\\u200b\\u200b\\u200b\\u200b\\u200b\\u200b\\u200b\\u200b\\u200b\\u200b\\u200b\\u200b\\u200b\\u200b\\u200b\\u200b\\u200b\\u200b\\u200b\\u200b\\u200b\\u200b\\u200b\\u200b\\u200b\\u200b\\u200b\\u200b\\u200b\\u200b\\u200b\\u200b\\u200b\\u200b\\u200b\\u200b\\u200b\\u200b\\u200b\\u200b\\u200b\\u200b\\u200b\\u200b\\u200b\\u200b\\u200b\\u200b\\u200b\\u200b\\u200b\\u200b\\u200b\\u200b\\u200b\\u200b\\u200b\\u200b\\u200b\\u200b\\u200b\\u200b\\u200b\\u200b\\u200b\\u200b\\u200b\\u200b\\u200b\\u200b\\u200b\\u200b\\u200b\\u200b\\u200b\\u200b\\u200b\\u200b\\u200b\\u200b\\u200b\\u200b\\u200b\\u200b\\u200b\\u200b\\u200b\\u200b\\u200b\\u200b\\u200b\\u200b\\u200b\\u200b\\u200b\\u200b\\u200b\\u200b\\u200b\\u200b\\u200b\\u200b\\u200b\\u200b\\u200b\\u200b\\u200b\\u200b\\u200b\\u200b\\u200b\\u200b\\u200b\\u200b\\u200b\\u200b\\u200b\\u200b\\u200b\\u200b\\u200b\\u200b\\u200b\\u200b\\u200b\\u200b\\u200b\\u200b\\u200b\\u200b\\u200b\\u200b\\u200b\\u200b\\u200b\\u200b\\u200b\\u200b\\u200b\\u200b\\u200b\\u200b\\u200b\\u200b\\u200b\\u200b\\u200b\\u200b\\u200b\\u200b\\u200b\\u200b\\u200b\\u200b\\u200b\\u200b\\u200b\\u200b\\u200b\\u200b\\u200b\\u200b\\u200b\\u200b\\u200b\\u200b\\u200b\\u200b\\u200b\\u200b\\u200b\\u200b\\u200b\\u200b\\u200b\\u200b\\u200b\\u200b\\u200b\\u200b\\u200b\\u200b\\u200b\\u200b\\u200b\\u200b\\u200b\\u200b\\u200b\\u200b\\u200b\\u200b\\u200b\\u200b\\u200b\\u200b\\u200b\\u200b\\u200b\\u200b\\u200b\\u200b\\u200b\\u200b\\u200b\\u200b\\u200b\\u200b\\u200b\\u200b\\u200b\\u200b\\u200b\\u200b\\u200b\\u200b\\u200b\\u200b\\u200b\\u200b\\u200b\\u200b\\u200b\\u200b\\u200b\\u200b\\u200b\\u200b\\u200b\\u200b\\u200b\\u200b\\u200b\\u200b\\u200b\\u200b\\u200b\\u200b\\u200b\\u200b\\u200b\\u200b\\u200b\\u200b\\u200b\\u200b\\u200b\\u200b\\u200b\\u200b\\u200b\\u200b\\u200b\\u200b\\u200b\\u200b\\u200b\\u200b\\u200b\\u200b\\u200b\\u200b\\u200b\\u200b\\u200b\\u200b\\u200b\\u200b\\u200b\\u200b\\u200b\\u200b\\u200b\\u200b\\u200b\\u200b\\u200b\\u200b\\u200b\\u200b\\u200b\\u200b\\u200b\\u200b\\u200b\\u200b\\u200b\\u200b\\u200b\\u200b\\u200b\\u200b\\u200b\\u200b\\u200b\\u200b\\u200b\\u200b\\u200b\\u200b\\u200b\\u200b\\u200b\\u200b\\u200b\\u200b\\u200b\\u200b\\u200b\\u200b\\u200b\\u200b\\u200b\\u200b\\u200b\\u200b\\u200b\\u200b\\u200b\\u200b\\u200b',\n",
              " 'source_documents': [Document(page_content='질문: 면진장치에 사용되는 주요 기술은 무엇인가요? 답변 : 면진장치란 지반으로부터 발생하는 진동 에너지를 흡수하여 건물에 전달되는 진동을 줄여주는 장치를 말합니다. 이를 통해 건물의 안전성과 안정성을 향상시키고, 지진 등의 외부 충격으로부터 보호하는 역할을 합니다. 지진으로 인한 건물의 피해를 최소화하기 위해 주로 사용됩니다.'),\n",
              "  Document(page_content='질문: 면진장치에 사용되는 주요 기술은 무엇인가요? 답변 : 면진장치란 건물의 지반에서 발생하는 진동 에너지를 흡수하여 건물을 보호하고, 진동을 줄여주는 장치입니다. 주로 지진이나 기타 지반의 진동으로 인한 피해를 방지하기 위해 사용됩니다.'),\n",
              "  Document(page_content='질문: 면진장치에 사용되는 주요 기술은 무엇인가요? 답변 : 면진장치는 건물에 오는 지반 진동의 영향을 최대한으로 흡수하여 건물에 전달되는 진동을 줄여주는 장치입니다. 지반으로부터 오는 진동 에너지의 영향을 완화시키기 위해 사용됩니다.')]}"
            ]
          },
          "metadata": {},
          "execution_count": 26
        }
      ]
    },
    {
      "cell_type": "code",
      "source": [
        "ans['result'].replace(\"\\u200b\",\"\")"
      ],
      "metadata": {
        "colab": {
          "base_uri": "https://localhost:8080/",
          "height": 35
        },
        "id": "tXgKfew1XEmb",
        "outputId": "8be68d51-56cf-4a8d-ce8d-a304d0d14e7d"
      },
      "execution_count": null,
      "outputs": [
        {
          "output_type": "execute_result",
          "data": {
            "text/plain": [
              "' 면진장치는 지반으로부터 발생하는 진동 에너지를 흡수하여 건물에 전달되는 진동을 줄여주는 장치입니다.'"
            ],
            "application/vnd.google.colaboratory.intrinsic+json": {
              "type": "string"
            }
          },
          "metadata": {},
          "execution_count": 28
        }
      ]
    },
    {
      "cell_type": "code",
      "source": [],
      "metadata": {
        "id": "OsMmVHHPeY4A"
      },
      "execution_count": null,
      "outputs": []
    }
  ]
}